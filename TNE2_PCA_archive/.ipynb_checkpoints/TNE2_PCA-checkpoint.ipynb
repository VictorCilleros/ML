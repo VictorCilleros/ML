{
 "cells": [
  {
   "cell_type": "markdown",
   "metadata": {},
   "source": [
    "# TNE 2: Principal Component Analysis"
   ]
  },
  {
   "cell_type": "markdown",
   "metadata": {},
   "source": [
    "The purpose of this tutorial is to use Principal Component Analysis (PCA) \n",
    "for dimension reduction applied to images.\n"
   ]
  },
  {
   "cell_type": "code",
   "execution_count": 1,
   "metadata": {},
   "outputs": [],
   "source": [
    "from pylab import *\n",
    "import numpy as np\n",
    "import matplotlib.pyplot as plt\n",
    "\n",
    "from numpy import linalg as la"
   ]
  },
  {
   "cell_type": "markdown",
   "metadata": {},
   "source": [
    "## 1. Application: handwritten digits recognition 5 & 6\n",
    "We load 2 matrices which contain each a sequence of examples of 16x16 images of handwritten digits which are 5 and 6 here. Each line of the matrix contains 256 pixel values coding for the gray level of a 16x16 image."
   ]
  },
  {
   "cell_type": "code",
   "execution_count": 2,
   "metadata": {},
   "outputs": [],
   "source": [
    "train_5 = np.loadtxt('train_5.txt',delimiter=',')   # 556 samples\n",
    "train_6 = np.loadtxt('train_6.txt',delimiter=',')   # 664 samples"
   ]
  },
  {
   "cell_type": "markdown",
   "metadata": {},
   "source": [
    "#### Examples of images:"
   ]
  },
  {
   "cell_type": "code",
   "execution_count": 3,
   "metadata": {},
   "outputs": [
    {
     "data": {
      "image/png": "[encoded data removed]",
      "text/plain": [
       "<Figure size 432x288 with 1 Axes>"
      ]
     },
     "metadata": {
      "needs_background": "light"
     },
     "output_type": "display_data"
    }
   ],
   "source": [
    "# Digit 5\n",
    "n=9;\n",
    "I = np.reshape(train_5[n,:],(16,16))\n",
    "\n",
    "plt.imshow(I,cmap='gray')\n",
    "plt.show()"
   ]
  },
  {
   "cell_type": "code",
   "execution_count": 4,
   "metadata": {},
   "outputs": [
    {
     "data": {
      "image/png": "[encoded data removed]",
      "text/plain": [
       "<Figure size 432x288 with 1 Axes>"
      ]
     },
     "metadata": {
      "needs_background": "light"
     },
     "output_type": "display_data"
    }
   ],
   "source": [
    "# Digit 6\n",
    "n=5;\n",
    "I = reshape(train_6[n,:],(16,16))\n",
    "\n",
    "plt.imshow(I,cmap='gray')\n",
    "plt.show()"
   ]
  },
  {
   "cell_type": "markdown",
   "metadata": {},
   "source": [
    "#### Separating the training and test sets\n",
    "\n",
    "We keep in the training set the 145 first images of 5s and the 200 first\n",
    "images of 6s:"
   ]
  },
  {
   "cell_type": "code",
   "execution_count": 5,
   "metadata": {},
   "outputs": [],
   "source": [
    "x_train_brut = np.vstack((train_5[:145,:], train_6[:200,:]))\n",
    "N_train = np.size(x_train_brut,axis=0)\n",
    "class_train = np.ones((345,1))   # label 1 for digit 6\n",
    "class_train[:145] = 0       # label 0 for digit 5\n",
    "\n",
    "x_test_brut = np.vstack((train_5[145:,:], train_6[200:,:]))\n",
    "N_test = np.size(train_5,axis=0)+np.size(train_6,axis=0)-N_train"
   ]
  },
  {
   "cell_type": "markdown",
   "metadata": {},
   "source": [
    "## 2. Principal Component Analysis\n",
    "\n",
    "The purpose of this part is to observe the respective contributions of\n",
    "each component of a PCA of images of 5. The function `sklearn.decomposition.PCA` of `scikit-learn` is available. In practice, one must first estimate the mean vector and then work with centered data. "
   ]
  },
  {
   "cell_type": "markdown",
   "metadata": {},
   "source": [
    "### Documentation\n",
    "First have a look at\n",
    "http://scikit-learn.org/stable/modules/generated/sklearn.decomposition.PCA.html\n",
    "    "
   ]
  },
  {
   "cell_type": "code",
   "execution_count": 6,
   "metadata": {},
   "outputs": [],
   "source": [
    "# Principal component analysis\n",
    "moy_train = x_train_brut.mean(axis=0)  # all the data, 5 & 6\n",
    "x_train_centre = x_train_brut-np.tile(moy_train,(N_train,1))\n",
    "\n",
    "# PCA from scikit-learn\n",
    "from sklearn.decomposition import PCA\n",
    "pca = PCA()\n",
    "pca.fit(x_train_centre)  # you may forget centering that is done by sklearn PCA\n",
    "\n",
    "singval = pca.singular_values_   # eigenvalues\n",
    "comp = pca.components_           # principal components\n",
    "proj = pca.transform(x_train_centre)  # computes the projection coefficients"
   ]
  },
  {
   "cell_type": "markdown",
   "metadata": {},
   "source": [
    "### Display the averaged images of 5 & 6 respectively"
   ]
  },
  {
   "cell_type": "code",
   "execution_count": 7,
   "metadata": {},
   "outputs": [
    {
     "data": {
      "image/png": "[encoded data removed]",
      "text/plain": [
       "<Figure size 432x288 with 1 Axes>"
      ]
     },
     "metadata": {
      "needs_background": "light"
     },
     "output_type": "display_data"
    }
   ],
   "source": [
    "I_moy = np.reshape(moy_train,(16,16))   # averaged image = mean \n",
    "plt.imshow(I_moy,cmap = 'gray')\n",
    "plt.show()"
   ]
  },
  {
   "cell_type": "markdown",
   "metadata": {},
   "source": [
    "### Display an example rebuilt from the 1st component only"
   ]
  },
  {
   "cell_type": "code",
   "execution_count": 8,
   "metadata": {},
   "outputs": [
    {
     "data": {
      "image/png": "[encoded data removed]",
      "text/plain": [
       "<Figure size 432x288 with 1 Axes>"
      ]
     },
     "metadata": {
      "needs_background": "light"
     },
     "output_type": "display_data"
    }
   ],
   "source": [
    "n=12   # choice of image no n=12 or any other\n",
    "\n",
    "I = I_moy + proj[n,0]*np.reshape(comp[0,:],(16,16))  # adding the 1st PCA component \n",
    "plt.imshow(I,cmap='gray')\n",
    "plt.show()"
   ]
  },
  {
   "cell_type": "markdown",
   "metadata": {},
   "source": [
    "### Exercise 1: PCA & approximation\n",
    "\n",
    "1. Read the documentation of function `PCA` and identify the input and output parameters.\n",
    "2. Implement a progressive reconstruction of an image of digit 5 by adding the successive \n",
    "contribution of principal components.\n",
    "3. Observe graphical results. How many components are necessary to obtain a \n",
    "reconstruction that you may consider as acceptable? nice? very nice?\n",
    "4. Optional question: do the same for 6.\n"
   ]
  },
  {
   "cell_type": "code",
   "execution_count": 9,
   "metadata": {},
   "outputs": [
    {
     "name": "stdout",
     "output_type": "stream",
     "text": [
      "Principal component analysis (PCA).\n",
      "\n",
      "    Linear dimensionality reduction using Singular Value Decomposition of the\n",
      "    data to project it to a lower dimensional space. The input data is centered\n",
      "    but not scaled for each feature before applying the SVD.\n",
      "\n",
      "    It uses the LAPACK implementation of the full SVD or a randomized truncated\n",
      "    SVD by the method of Halko et al. 2009, depending on the shape of the input\n",
      "    data and the number of components to extract.\n",
      "\n",
      "    It can also use the scipy.sparse.linalg ARPACK implementation of the\n",
      "    truncated SVD.\n",
      "\n",
      "    Notice that this class does not support sparse input. See\n",
      "    :class:`TruncatedSVD` for an alternative with sparse data.\n",
      "\n",
      "    Read more in the :ref:`User Guide <PCA>`.\n",
      "\n",
      "    Parameters\n",
      "    ----------\n",
      "    n_components : int, float or 'mle', default=None\n",
      "        Number of components to keep.\n",
      "        if n_components is not set all components are kept::\n",
      "\n",
      "            n_components == min(n_samples, n_features)\n",
      "\n",
      "        If ``n_components == 'mle'`` and ``svd_solver == 'full'``, Minka's\n",
      "        MLE is used to guess the dimension. Use of ``n_components == 'mle'``\n",
      "        will interpret ``svd_solver == 'auto'`` as ``svd_solver == 'full'``.\n",
      "\n",
      "        If ``0 < n_components < 1`` and ``svd_solver == 'full'``, select the\n",
      "        number of components such that the amount of variance that needs to be\n",
      "        explained is greater than the percentage specified by n_components.\n",
      "\n",
      "        If ``svd_solver == 'arpack'``, the number of components must be\n",
      "        strictly less than the minimum of n_features and n_samples.\n",
      "\n",
      "        Hence, the None case results in::\n",
      "\n",
      "            n_components == min(n_samples, n_features) - 1\n",
      "\n",
      "    copy : bool, default=True\n",
      "        If False, data passed to fit are overwritten and running\n",
      "        fit(X).transform(X) will not yield the expected results,\n",
      "        use fit_transform(X) instead.\n",
      "\n",
      "    whiten : bool, default=False\n",
      "        When True (False by default) the `components_` vectors are multiplied\n",
      "        by the square root of n_samples and then divided by the singular values\n",
      "        to ensure uncorrelated outputs with unit component-wise variances.\n",
      "\n",
      "        Whitening will remove some information from the transformed signal\n",
      "        (the relative variance scales of the components) but can sometime\n",
      "        improve the predictive accuracy of the downstream estimators by\n",
      "        making their data respect some hard-wired assumptions.\n",
      "\n",
      "    svd_solver : {'auto', 'full', 'arpack', 'randomized'}, default='auto'\n",
      "        If auto :\n",
      "            The solver is selected by a default policy based on `X.shape` and\n",
      "            `n_components`: if the input data is larger than 500x500 and the\n",
      "            number of components to extract is lower than 80% of the smallest\n",
      "            dimension of the data, then the more efficient 'randomized'\n",
      "            method is enabled. Otherwise the exact full SVD is computed and\n",
      "            optionally truncated afterwards.\n",
      "        If full :\n",
      "            run exact full SVD calling the standard LAPACK solver via\n",
      "            `scipy.linalg.svd` and select the components by postprocessing\n",
      "        If arpack :\n",
      "            run SVD truncated to n_components calling ARPACK solver via\n",
      "            `scipy.sparse.linalg.svds`. It requires strictly\n",
      "            0 < n_components < min(X.shape)\n",
      "        If randomized :\n",
      "            run randomized SVD by the method of Halko et al.\n",
      "\n",
      "        .. versionadded:: 0.18.0\n",
      "\n",
      "    tol : float, default=0.0\n",
      "        Tolerance for singular values computed by svd_solver == 'arpack'.\n",
      "        Must be of range [0.0, infinity).\n",
      "\n",
      "        .. versionadded:: 0.18.0\n",
      "\n",
      "    iterated_power : int or 'auto', default='auto'\n",
      "        Number of iterations for the power method computed by\n",
      "        svd_solver == 'randomized'.\n",
      "        Must be of range [0, infinity).\n",
      "\n",
      "        .. versionadded:: 0.18.0\n",
      "\n",
      "    random_state : int, RandomState instance or None, default=None\n",
      "        Used when the 'arpack' or 'randomized' solvers are used. Pass an int\n",
      "        for reproducible results across multiple function calls.\n",
      "        See :term:`Glossary <random_state>`.\n",
      "\n",
      "        .. versionadded:: 0.18.0\n",
      "\n",
      "    Attributes\n",
      "    ----------\n",
      "    components_ : ndarray of shape (n_components, n_features)\n",
      "        Principal axes in feature space, representing the directions of\n",
      "        maximum variance in the data. Equivalently, the right singular\n",
      "        vectors of the centered input data, parallel to its eigenvectors.\n",
      "        The components are sorted by ``explained_variance_``.\n",
      "\n",
      "    explained_variance_ : ndarray of shape (n_components,)\n",
      "        The amount of variance explained by each of the selected components.\n",
      "        The variance estimation uses `n_samples - 1` degrees of freedom.\n",
      "\n",
      "        Equal to n_components largest eigenvalues\n",
      "        of the covariance matrix of X.\n",
      "\n",
      "        .. versionadded:: 0.18\n",
      "\n",
      "    explained_variance_ratio_ : ndarray of shape (n_components,)\n",
      "        Percentage of variance explained by each of the selected components.\n",
      "\n",
      "        If ``n_components`` is not set then all components are stored and the\n",
      "        sum of the ratios is equal to 1.0.\n",
      "\n",
      "    singular_values_ : ndarray of shape (n_components,)\n",
      "        The singular values corresponding to each of the selected components.\n",
      "        The singular values are equal to the 2-norms of the ``n_components``\n",
      "        variables in the lower-dimensional space.\n",
      "\n",
      "        .. versionadded:: 0.19\n",
      "\n",
      "    mean_ : ndarray of shape (n_features,)\n",
      "        Per-feature empirical mean, estimated from the training set.\n",
      "\n",
      "        Equal to `X.mean(axis=0)`.\n",
      "\n",
      "    n_components_ : int\n",
      "        The estimated number of components. When n_components is set\n",
      "        to 'mle' or a number between 0 and 1 (with svd_solver == 'full') this\n",
      "        number is estimated from input data. Otherwise it equals the parameter\n",
      "        n_components, or the lesser value of n_features and n_samples\n",
      "        if n_components is None.\n",
      "\n",
      "    n_features_ : int\n",
      "        Number of features in the training data.\n",
      "\n",
      "    n_samples_ : int\n",
      "        Number of samples in the training data.\n",
      "\n",
      "    noise_variance_ : float\n",
      "        The estimated noise covariance following the Probabilistic PCA model\n",
      "        from Tipping and Bishop 1999. See \"Pattern Recognition and\n",
      "        Machine Learning\" by C. Bishop, 12.2.1 p. 574 or\n",
      "        http://www.miketipping.com/papers/met-mppca.pdf. It is required to\n",
      "        compute the estimated data covariance and score samples.\n",
      "\n",
      "        Equal to the average of (min(n_features, n_samples) - n_components)\n",
      "        smallest eigenvalues of the covariance matrix of X.\n",
      "\n",
      "    n_features_in_ : int\n",
      "        Number of features seen during :term:`fit`.\n",
      "\n",
      "        .. versionadded:: 0.24\n",
      "\n",
      "    feature_names_in_ : ndarray of shape (`n_features_in_`,)\n",
      "        Names of features seen during :term:`fit`. Defined only when `X`\n",
      "        has feature names that are all strings.\n",
      "\n",
      "        .. versionadded:: 1.0\n",
      "\n",
      "    See Also\n",
      "    --------\n",
      "    KernelPCA : Kernel Principal Component Analysis.\n",
      "    SparsePCA : Sparse Principal Component Analysis.\n",
      "    TruncatedSVD : Dimensionality reduction using truncated SVD.\n",
      "    IncrementalPCA : Incremental Principal Component Analysis.\n",
      "\n",
      "    References\n",
      "    ----------\n",
      "    For n_components == 'mle', this class uses the method from:\n",
      "    `Minka, T. P.. \"Automatic choice of dimensionality for PCA\".\n",
      "    In NIPS, pp. 598-604 <https://tminka.github.io/papers/pca/minka-pca.pdf>`_\n",
      "\n",
      "    Implements the probabilistic PCA model from:\n",
      "    `Tipping, M. E., and Bishop, C. M. (1999). \"Probabilistic principal\n",
      "    component analysis\". Journal of the Royal Statistical Society:\n",
      "    Series B (Statistical Methodology), 61(3), 611-622.\n",
      "    <http://www.miketipping.com/papers/met-mppca.pdf>`_\n",
      "    via the score and score_samples methods.\n",
      "\n",
      "    For svd_solver == 'arpack', refer to `scipy.sparse.linalg.svds`.\n",
      "\n",
      "    For svd_solver == 'randomized', see:\n",
      "    `Halko, N., Martinsson, P. G., and Tropp, J. A. (2011).\n",
      "    \"Finding structure with randomness: Probabilistic algorithms for\n",
      "    constructing approximate matrix decompositions\".\n",
      "    SIAM review, 53(2), 217-288.\n",
      "    <https://doi.org/10.1137/090771806>`_\n",
      "    and also\n",
      "    `Martinsson, P. G., Rokhlin, V., and Tygert, M. (2011).\n",
      "    \"A randomized algorithm for the decomposition of matrices\".\n",
      "    Applied and Computational Harmonic Analysis, 30(1), 47-68\n",
      "    <https://doi.org/10.1016/j.acha.2010.02.003>`_.\n",
      "\n",
      "    Examples\n",
      "    --------\n",
      "    >>> import numpy as np\n",
      "    >>> from sklearn.decomposition import PCA\n",
      "    >>> X = np.array([[-1, -1], [-2, -1], [-3, -2], [1, 1], [2, 1], [3, 2]])\n",
      "    >>> pca = PCA(n_components=2)\n",
      "    >>> pca.fit(X)\n",
      "    PCA(n_components=2)\n",
      "    >>> print(pca.explained_variance_ratio_)\n",
      "    [0.9924... 0.0075...]\n",
      "    >>> print(pca.singular_values_)\n",
      "    [6.30061... 0.54980...]\n",
      "\n",
      "    >>> pca = PCA(n_components=2, svd_solver='full')\n",
      "    >>> pca.fit(X)\n",
      "    PCA(n_components=2, svd_solver='full')\n",
      "    >>> print(pca.explained_variance_ratio_)\n",
      "    [0.9924... 0.00755...]\n",
      "    >>> print(pca.singular_values_)\n",
      "    [6.30061... 0.54980...]\n",
      "\n",
      "    >>> pca = PCA(n_components=1, svd_solver='arpack')\n",
      "    >>> pca.fit(X)\n",
      "    PCA(n_components=1, svd_solver='arpack')\n",
      "    >>> print(pca.explained_variance_ratio_)\n",
      "    [0.99244...]\n",
      "    >>> print(pca.singular_values_)\n",
      "    [6.30061...]\n",
      "    \n"
     ]
    },
    {
     "data": {
      "text/plain": [
       "True"
      ]
     },
     "execution_count": 9,
     "metadata": {},
     "output_type": "execute_result"
    }
   ],
   "source": [
    "print(pca.__doc__)\n",
    "import webbrowser\n",
    "webbrowser.open(\"https://scikit-learn.org/stable/modules/generated/sklearn.decomposition.PCA.html\")"
   ]
  },
  {
   "cell_type": "markdown",
   "metadata": {},
   "source": [
    "En entrée, on a besoin d'un array de la taille ($n_{samples}$, $n_{features}$)\\\n",
    "En sortie, on a les matrices $U, \\Sigma$ et $V^H$, qui proviennent de la décomposition $\\textit{SVD}$ avec $\\Sigma$ comprenant les valeurs singulières et $U$ les directions des composantes principales. "
   ]
  },
  {
   "cell_type": "code",
   "execution_count": 27,
   "metadata": {},
   "outputs": [
    {
     "data": {
      "text/plain": [
       "(345, 120)"
      ]
     },
     "execution_count": 27,
     "metadata": {},
     "output_type": "execute_result"
    }
   ],
   "source": [
    "x_train_standardized = (x_train_centre.T/np.std(x_train_centre,1)).T\n",
    "U, S, VH = la.svd(x_train_standardized,full_matrices=False,compute_uv=True)\n",
    "V = VH.T   \n",
    "n= 120\n",
    "\n",
    " \n",
    "x_projected = x_train_standardized@V[:n].T\n",
    "np.shape(x_projected)"
   ]
  },
  {
   "cell_type": "code",
   "execution_count": 35,
   "metadata": {},
   "outputs": [
    {
     "data": {
      "text/plain": [
       "<matplotlib.image.AxesImage at 0x1edd155c988>"
      ]
     },
     "execution_count": 35,
     "metadata": {},
     "output_type": "execute_result"
    },
    {
     "data": {
      "image/png": "[encoded data removed]",
      "text/plain": [
       "<Figure size 432x288 with 1 Axes>"
      ]
     },
     "metadata": {
      "needs_background": "light"
     },
     "output_type": "display_data"
    }
   ],
   "source": [
    "plt.imshow(np.reshape(U[2,:],(16,16)))"
   ]
  },
  {
   "cell_type": "code",
   "execution_count": 88,
   "metadata": {},
   "outputs": [
    {
     "name": "stdout",
     "output_type": "stream",
     "text": [
      "Les variances sont conservées à 95.0 % dès qu'on a au moins 66 composants\n"
     ]
    },
    {
     "data": {
      "image/png": "[encoded data removed]",
      "text/plain": [
       "<Figure size 432x288 with 1 Axes>"
      ]
     },
     "metadata": {},
     "output_type": "display_data"
    }
   ],
   "source": [
    "Variance_Explained = np.cumsum(S**2)/np.sum(S**2)\n",
    "plt.plot(Variance_Explained,color=\"black\")\n",
    "plt.style.use(\"ggplot\")\n",
    "plt.xlabel(\"$n_{component}$\")\n",
    "plt.ylabel(\"Variance Explained\")\n",
    "p=0.95\n",
    "print(f\"Les variances sont conservées à {p*100} % dès qu'on a au moins {np.min(np.argwhere(Variance_Explained>=p) )} composants\")"
   ]
  },
  {
   "cell_type": "markdown",
   "metadata": {},
   "source": [
    "### Exercise 2: PCA & classification\n",
    "1. Use `proj[0:2,:]` as the coordinates of a point representing each sample\n",
    "of the training set in a plane. Display the cloud of points associated to\n",
    "digits 5 and 6 by using 2 different colors.\n",
    "2. Comment on the repartition of points in the plane. \n",
    "3. Do you see how this PCA step makes possible the use of a much simpler classification? \n",
    "What would you propose as an alternative to logistic regression of TP3 then?\n"
   ]
  },
  {
   "cell_type": "code",
   "execution_count": null,
   "metadata": {
    "collapsed": true
   },
   "outputs": [],
   "source": [
    "# Exercise 2"
   ]
  },
  {
   "cell_type": "markdown",
   "metadata": {},
   "source": [
    "## Beyong this lab\n",
    "\n",
    "Have a look at other examples of applications, like\n",
    "\n",
    "http://scikit-learn.org/stable/auto_examples/decomposition/plot_faces_decomposition.html#sphx-glr-auto-examples-decomposition-plot-faces-decomposition-py\n",
    "    "
   ]
  },
  {
   "cell_type": "code",
   "execution_count": null,
   "metadata": {
    "collapsed": true
   },
   "outputs": [],
   "source": []
  }
 ],
 "metadata": {
  "kernelspec": {
   "display_name": "Python 3",
   "language": "python",
   "name": "python3"
  },
  "language_info": {
   "codemirror_mode": {
    "name": "ipython",
    "version": 3
   },
   "file_extension": ".py",
   "mimetype": "text/x-python",
   "name": "python",
   "nbconvert_exporter": "python",
   "pygments_lexer": "ipython3",
   "version": "3.7.4"
  },
  "vscode": {
   "interpreter": {
    "hash": "fc181ad2d5a8668b9dc9dc9be5fdfb576ae548dec1bb9e3b7af6d356f2704ac2"
   }
  }
 },
 "nbformat": 4,
 "nbformat_minor": 2
}

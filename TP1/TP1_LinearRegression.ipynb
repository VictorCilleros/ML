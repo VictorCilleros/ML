{
 "cells": [
  {
   "cell_type": "markdown",
   "metadata": {},
   "source": [
    "# TP1 : Linear regression"
   ]
  },
  {
   "cell_type": "markdown",
   "metadata": {},
   "source": [
    "The purpose of this work is to implement least square linear regression to medical data. The problem is based on an example described in the book by Hastie & Tibshirani (2009) pp. 3-4 & 49-63. Data come from a study published by Stamey et al. (1989). This study aims at the prediction of the level of prostate specific antigen, denoted by `lpsa` below, from the\n",
    "results of clinical exams. These exams are carried out before a possible\n",
    "prostatectomy.\n",
    "\n",
    "The measurements are log cancer volume `lcavol`, log prostate \n",
    "weight `lweight`, age of the patient `age`, log of benign prostatic \n",
    "hyperplasia amount `lbph`, seminal vesicle invasion `svi`, log of capsular \n",
    "penetration `lcp`, Gleason score `gleason`, and percent of Gleason scores 4 or \n",
    "5 `pgg45`. The variables `svi` and `gleason` are categorical, others are\n",
    "quantitative. There are `p=8` entries.\n",
    "The work is decomposed in the following tasks:\n",
    "\n",
    "* read and format the data : extraction of the training and test sets,\n",
    "* apply least square regression method to predict `lpsa` from the entries,\n",
    "* study the estimated error on the test set (validation),\n",
    "* identify the most significant entries by using a rejection test,\n",
    "* apply regularized least square regression method (ridge regression),\n",
    "* search for an optimal regularization parameter thanks to\n",
    "cross-validation."
   ]
  },
  {
   "cell_type": "code",
   "execution_count": 1,
   "metadata": {},
   "outputs": [],
   "source": [
    "import csv\n",
    "# import os\n",
    "from pylab import *\n",
    "import numpy as np\n",
    "from numpy import linalg as la\n",
    "\n",
    "import pandas as pd\n",
    "import seaborn as sns"
   ]
  },
  {
   "cell_type": "markdown",
   "metadata": {},
   "source": [
    "## Read & Normalize data\n",
    "Data are stored in ASCII format: \n",
    "\n",
    "* the first column enumerates the data from 1 à 97 (97 male subjects). \n",
    "* columns 2 to 9 contain the entries themselves. \n",
    "* column 10 contains target values. \n",
    "* column 11 contains label 1 for the training set, \n",
    "and 2 for the test set."
   ]
  },
  {
   "cell_type": "code",
   "execution_count": 2,
   "metadata": {},
   "outputs": [],
   "source": [
    "#%% To read data from spaced separated float numbers\n",
    "# x, y = np.loadtxt(c, delimiter=',', usecols=(0, 2), unpack=True)\n",
    "\n",
    "data_init = np.loadtxt('prostate_data_sansheader.txt')\n",
    "\n",
    "data = data_init[:,1:]   # we get rid of the indices (1 to 97)\n",
    "\n",
    "#%% Extraction of training/test sets\n",
    "Itrain = np.nonzero(data[:,-1]==1)\n",
    "data_train=data[Itrain]   # original data\n",
    "\n",
    "Itest = np.nonzero(data[:,-1]==0)\n",
    "data_test = data[Itest]   # original data"
   ]
  },
  {
   "cell_type": "markdown",
   "metadata": {},
   "source": [
    "**Normalization of the data** *with respect to the mean and standard deviation of the training set*."
   ]
  },
  {
   "cell_type": "code",
   "execution_count": 3,
   "metadata": {},
   "outputs": [
    {
     "name": "stdout",
     "output_type": "stream",
     "text": [
      "[ 1.23328245  0.47303067  7.44601122  1.45269103  0.41684299  1.39024269\n",
      "  0.70355366 29.08227243]\n"
     ]
    }
   ],
   "source": [
    "M_train = data_train\n",
    "M_test = data_test \n",
    "moy = np.zeros((8,))\n",
    "sigma = np.zeros((8,))\n",
    "\n",
    "# With a FOR loop :\n",
    "for k in range(8): # 8 columns of entries\n",
    "    moy[k]=np.mean(data_train[:,k])\n",
    "    sigma[k] = np.std(data_train[:,k], ddof=0)\n",
    "    M_train[:,k] = (data_train[:,k]-moy[k])/sigma[k] # normalized: centered, variance 1\n",
    "    M_test[:,k] = (data_test[:,k]-moy[k])/sigma[k]   # same normalization for test set\n",
    "\n",
    "print(sigma)"
   ]
  },
  {
   "cell_type": "code",
   "execution_count": 24,
   "metadata": {},
   "outputs": [],
   "source": [
    "# Alternative WITHOUT FOR\n",
    "normalize = lambda vec: (vec-np.mean(vec))/np.std(vec)    # inline function \n",
    "M_train = np.array( [ normalize(vec) for vec in data_train[:,0:8].T ] ).T  # iterate on vec direct / ARRAY not LIST\n",
    "moy = np.array( [ np.mean(vec) for vec in data_train[:,0:8].T ] )\n",
    "sigma = np.array( [ np.std(vec, ddof=0) for vec in data_train[:,0:8].T ] )\n",
    "\n",
    "M_test = np.array([ (data_test[:,k]-moy[k])/sigma[k] for k in range(M_train.shape[1]) ] ).T"
   ]
  },
  {
   "cell_type": "markdown",
   "metadata": {},
   "source": [
    "# Part 1 : simple least square regression"
   ]
  },
  {
   "cell_type": "markdown",
   "metadata": {},
   "source": [
    "## Preliminary questions\n",
    " \n",
    " * Compute the autocovariance matrix from the training set.\n",
    " * Observe carefully & Comment. What kind of information can you get ? "
   ]
  },
  {
   "cell_type": "code",
   "execution_count": 133,
   "metadata": {},
   "outputs": [
    {
     "data": {
      "text/plain": [
       "array([[-1.53517959, -1.81097918, -1.98042525, -1.00347165, -0.53708616,\n",
       "        -0.84308399, -1.03949894, -0.90325324, -0.4307829 ,  1.        ],\n",
       "       [-1.87122084, -0.64791082, -0.90602451, -1.00347165, -0.53708616,\n",
       "        -0.84308399, -1.03949894, -0.90325324, -0.1625189 ,  1.        ],\n",
       "       [-1.47923712, -1.97632998,  1.24277698, -1.00347165, -0.53708616,\n",
       "        -0.84308399,  0.38185676, -0.21554907, -0.1625189 ,  1.        ],\n",
       "       [-2.04127153, -0.72578526, -0.90602451, -1.00347165, -0.53708616,\n",
       "        -0.84308399, -1.03949894, -0.90325324, -0.1625189 ,  1.        ],\n",
       "       [-0.45575567, -0.40956052, -0.36882414, -1.00347165, -0.53708616,\n",
       "        -0.84308399, -1.03949894, -0.90325324,  0.3715636 ,  1.        ],\n",
       "       [-1.91627934, -0.83986455, -1.98042525, -1.00347165, -0.53708616,\n",
       "        -0.84308399, -1.03949894, -0.90325324,  0.7654678 ,  1.        ],\n",
       "       [-0.50300267, -0.18307203, -0.90602451,  1.00876737, -0.53708616,\n",
       "        -0.84308399, -1.03949894, -0.90325324,  0.8544153 ,  1.        ],\n",
       "       [-0.85856191, -0.04644453,  0.03407614, -1.00347165, -0.53708616,\n",
       "        -0.84308399, -1.03949894, -0.90325324,  1.2669476 ,  1.        ],\n",
       "       [-2.15730403, -0.05798078, -0.23452404,  0.82296074, -0.53708616,\n",
       "        -0.84308399, -1.03949894, -0.90325324,  1.2669476 ,  1.        ],\n",
       "       [ 0.24320332, -1.27528029, -0.23452404, -1.00347165, -0.53708616,\n",
       "        -0.2759475 ,  0.38185676,  0.12830302,  1.2669476 ,  1.        ],\n",
       "       [ 0.13261939, -1.32735303,  0.30267633, -1.00347165, -0.53708616,\n",
       "        -0.84308399,  0.38185676, -0.73132719,  1.3480731 ,  1.        ],\n",
       "       [ 0.1846029 , -1.19454345,  0.16837624, -1.00347165, -0.53708616,\n",
       "        -0.84308399, -1.03949894, -0.90325324,  1.446919  ,  1.        ],\n",
       "       [-1.4019554 , -0.23274323,  0.70557661,  0.80727054, -0.53708616,\n",
       "        -0.2759475 ,  0.38185676,  0.12830302,  1.4701758 ,  1.        ],\n",
       "       [ 0.79056879,  0.04915392,  0.16837624, -1.00347165, -0.53708616,\n",
       "         0.42134123, -1.03949894, -0.90325324,  1.4929041 ,  1.        ],\n",
       "       [-1.52082799, -0.75775571, -3.18912609, -1.00347165, -0.53708616,\n",
       "        -0.84308399, -1.03949894, -0.90325324,  1.5581446 ,  1.        ],\n",
       "       [-0.9172027 ,  0.42125665,  0.70557661,  1.09230947, -0.53708616,\n",
       "        -0.84308399, -1.03949894, -0.90325324,  1.5993876 ,  1.        ],\n",
       "       [-0.13467239, -0.4370598 , -0.77172442, -1.00347165, -0.53708616,\n",
       "        -0.84308399, -1.03949894, -0.90325324,  1.6389967 ,  1.        ],\n",
       "       [-1.506726  , -0.5289883 , -0.77172442, -0.59885247, -0.53708616,\n",
       "        -0.84308399, -1.03949894, -0.90325324,  1.6956156 ,  1.        ],\n",
       "       [ 0.37965154, -0.36896907, -0.23452404,  0.25250725, -0.53708616,\n",
       "         1.00188119,  0.38185676,  1.15985927,  1.7137979 ,  1.        ],\n",
       "       [-0.649217  ,  0.19775317,  0.03407614, -1.00347165, -0.53708616,\n",
       "        -0.4202897 ,  0.38185676,  1.50371135,  1.8000583 ,  1.        ],\n",
       "       [-0.22153469, -1.05100308,  0.30267633,  0.10442939, -0.53708616,\n",
       "         0.18917069,  0.38185676,  1.84756344,  1.8484548 ,  1.        ],\n",
       "       [ 0.88880906, -0.5289883 ,  0.03407614, -1.00347165, -0.53708616,\n",
       "         1.31890012, -1.03949894, -0.90325324,  1.8946169 ,  1.        ],\n",
       "       [-0.83380138,  0.98103854,  0.03407614,  1.30204412, -0.53708616,\n",
       "        -0.4202897 , -1.03949894, -0.90325324,  1.9242487 ,  1.        ],\n",
       "       [-0.03091648, -1.24464169,  0.8398767 ,  0.82296074, -0.53708616,\n",
       "        -0.84308399, -1.03949894, -0.90325324,  2.008214  ,  1.        ],\n",
       "       [-1.07318635, -0.86513141, -0.23452404, -1.00347165, -0.53708616,\n",
       "        -0.4202897 , -1.03949894, -0.90325324,  2.0476928 ,  1.        ],\n",
       "       [ 0.08888214,  0.06558415,  1.10847689, -0.44831171, -0.53708616,\n",
       "         1.34683757,  1.80321245, -0.38747511,  2.1575593 ,  1.        ],\n",
       "       [-0.69413678, -2.6450752 , -0.10022395, -1.00347165, -0.53708616,\n",
       "        -0.84308399,  0.38185676, -0.38747511,  2.1916535 ,  1.        ],\n",
       "       [ 1.09258592,  0.97039864,  0.43697642,  0.89645743,  1.86189867,\n",
       "         1.47224976,  0.38185676,  0.30022906,  2.2137539 ,  1.        ],\n",
       "       [-0.41838296, -1.29595548, -1.17462469,  0.59520809, -0.53708616,\n",
       "         0.0371763 ,  0.38185676, -0.73132719,  2.2772673 ,  1.        ],\n",
       "       [-0.56184621, -1.0234277 , -0.63742432, -1.00347165, -0.53708616,\n",
       "        -0.84308399,  3.22456815,  1.84756344,  2.2975726 ,  1.        ],\n",
       "       [-0.59295089,  0.50709464, -0.36882414,  1.13056251, -0.53708616,\n",
       "        -0.15578569, -1.03949894, -0.90325324,  2.3272777 ,  1.        ],\n",
       "       [ 0.13999076, -0.45792314,  0.16837624,  1.1549324 , -0.53708616,\n",
       "        -0.15578569,  0.38185676, -0.21554907,  2.5217206 ,  1.        ],\n",
       "       [ 0.28414784, -0.49315764, -0.50312423,  0.37430239, -0.53708616,\n",
       "        -0.84308399,  0.38185676, -0.38747511,  2.5533438 ,  1.        ],\n",
       "       [ 1.14682673,  0.78078936,  1.91427745,  1.24460405,  1.86189867,\n",
       "         2.06507823,  3.22456815,  2.53526761,  2.5687881 ,  1.        ],\n",
       "       [-0.17965735,  0.77689532,  0.43697642, -1.00347165, -0.53708616,\n",
       "        -0.84308399,  0.38185676,  0.81600719,  2.6567569 ,  1.        ],\n",
       "       [ 0.28107063,  1.28685803, -0.10022395,  1.37794753, -0.53708616,\n",
       "        -0.84308399, -1.03949894, -0.90325324,  2.677591  ,  1.        ],\n",
       "       [-0.03773989,  1.38262561,  0.16837624,  1.41173972, -0.53708616,\n",
       "        -0.84308399,  0.38185676, -0.38747511,  2.7180005 ,  1.        ],\n",
       "       [-0.68902102,  0.29294996, -2.11472535,  0.93045829, -0.53708616,\n",
       "        -0.84308399, -1.03949894, -0.90325324,  2.7942279 ,  1.        ],\n",
       "       [-0.62529655,  1.16719349,  0.70557661,  0.25250725, -0.53708616,\n",
       "        -0.84308399,  0.38185676, -0.21554907,  2.8063861 ,  1.        ],\n",
       "       [-0.20452334,  0.47587467, -0.50312423,  0.84208358, -0.53708616,\n",
       "        -0.84308399,  0.38185676,  0.4721551 ,  2.8124102 ,  1.        ],\n",
       "       [-0.69413678,  1.89923059,  1.10847689,  1.55219634, -0.53708616,\n",
       "        -0.84308399, -1.03949894, -0.90325324,  2.8419982 ,  1.        ],\n",
       "       [ 1.18563051, -0.21397912,  0.97417679, -1.00347165, -0.53708616,\n",
       "         1.27484765,  3.22456815,  2.36334157,  2.8535925 ,  1.        ],\n",
       "       [ 0.57519641,  0.5334925 ,  0.43697642,  1.17846897, -0.53708616,\n",
       "         1.10481347,  0.38185676,  1.50371135,  2.9204698 ,  1.        ],\n",
       "       [ 0.71747029,  0.89805449,  0.97417679,  1.53930373, -0.53708616,\n",
       "        -0.15578569,  0.38185676, -0.55940115,  2.9626924 ,  1.        ],\n",
       "       [-1.42690643,  1.65409849,  0.57127652, -1.00347165, -0.53708616,\n",
       "        -0.84308399, -1.03949894, -0.90325324,  2.9626924 ,  1.        ],\n",
       "       [-0.09695191,  2.44017015,  0.97417679,  1.55219634, -0.53708616,\n",
       "        -0.4202897 ,  0.38185676, -0.73132719,  2.9729753 ,  1.        ],\n",
       "       [ 0.44644159, -0.06958045, -0.63742432, -1.00347165,  1.86189867,\n",
       "         1.10481347,  0.38185676,  1.15985927,  3.0130809 ,  1.        ],\n",
       "       [-0.12444078, -0.60252898,  1.64567726,  1.1549324 , -0.53708616,\n",
       "        -0.84308399,  0.38185676, -0.04362303,  3.0373539 ,  1.        ],\n",
       "       [ 1.36686824,  0.47137602,  0.57127652, -1.00347165,  1.86189867,\n",
       "         1.52760775,  0.38185676, -0.21554907,  3.2752562 ,  1.        ],\n",
       "       [ 1.48193054, -0.76582495,  0.43697642, -0.08448679,  1.86189867,\n",
       "         1.89504405,  0.38185676,  0.81600719,  3.3375474 ,  1.        ],\n",
       "       [ 0.56548558,  1.70746079,  0.97417679,  1.41173972, -0.53708616,\n",
       "         0.51428308,  0.38185676,  1.15985927,  3.3928291 ,  1.        ],\n",
       "       [ 0.9926077 ,  1.54044202,  1.77997735,  1.55219634, -0.53708616,\n",
       "        -0.84308399,  0.38185676, -0.55940115,  3.4355988 ,  1.        ],\n",
       "       [ 1.08232193, -0.09297217,  0.57127652, -1.00347165,  1.86189867,\n",
       "         2.01274251,  0.38185676,  1.50371135,  3.4578927 ,  1.        ],\n",
       "       [ 0.1251804 , -1.17483226,  0.16837624,  0.33604935, -0.53708616,\n",
       "         0.31458289,  0.38185676,  0.4721551 ,  3.5160131 ,  1.        ],\n",
       "       [ 0.97314651, -0.32257885, -1.0403246 ,  0.25250725, -0.53708616,\n",
       "         1.82808421,  0.38185676,  1.15985927,  3.5307626 ,  1.        ],\n",
       "       [ 1.05370436,  0.55524162,  1.64567726, -0.41238821,  1.86189867,\n",
       "         0.55660699,  0.38185676,  0.12830302,  3.5652984 ,  1.        ],\n",
       "       [ 0.20178245,  0.17715408, -0.63742432,  1.11804621, -0.53708616,\n",
       "         0.73737718,  0.38185676,  0.12830302,  3.5876769 ,  1.        ],\n",
       "       [ 1.61305928, -0.22647091, -0.10022395, -1.00347165,  1.86189867,\n",
       "         1.82808421,  0.38185676,  1.15985927,  3.6309855 ,  1.        ],\n",
       "       [ 0.57626825,  0.22322298, -0.90602451,  1.07907102, -0.53708616,\n",
       "        -0.84308399, -1.03949894, -0.90325324,  3.6800909 ,  1.        ],\n",
       "       [ 0.33906587, -0.54349476, -0.36882414, -1.00347165,  1.86189867,\n",
       "         0.36994088,  0.38185676,  0.12830302,  3.7123518 ,  1.        ],\n",
       "       [ 1.21148426,  2.30840068,  0.03407614, -1.00347165,  1.86189867,\n",
       "         1.92632284,  0.38185676,  1.15985927,  3.9843437 ,  1.        ],\n",
       "       [ 0.20178245,  0.14587281,  1.51137717,  0.59520809,  1.86189867,\n",
       "         0.73737718,  0.38185676,  1.6756374 ,  3.993603  ,  1.        ],\n",
       "       [ 1.56736151,  1.00566273,  0.43697642, -1.00347165, -0.53708616,\n",
       "        -0.84308399, -1.03949894, -0.90325324,  4.029806  ,  1.        ],\n",
       "       [ 0.98875265,  0.10878431, -0.50312423,  0.87880576,  1.86189867,\n",
       "        -0.84308399,  0.38185676, -0.38747511,  4.1295508 ,  1.        ],\n",
       "       [ 1.22986935,  0.52911646,  0.43697642, -1.00347165,  1.86189867,\n",
       "         1.10481347,  0.38185676,  1.15985927,  4.3851468 ,  1.        ],\n",
       "       [ 2.03320176,  0.57248152, -2.78622581, -1.00347165,  1.86189867,\n",
       "         1.71427386,  0.38185676,  0.4721551 ,  4.6844434 ,  1.        ],\n",
       "       [ 1.27227305,  0.31245821,  0.43697642,  1.02341425,  1.86189867,\n",
       "         1.27484765,  0.38185676,  1.84756344,  5.477509  ,  1.        ]])"
      ]
     },
     "execution_count": 133,
     "metadata": {},
     "output_type": "execute_result"
    }
   ],
   "source": [
    "# Covariance_matrix=np.cov(np.concatenate((np.array([t_train]),M_train)))\n",
    "# sns.heatmap(Covariance_matrix)\n",
    "M_train\n"
   ]
  },
  {
   "cell_type": "markdown",
   "metadata": {},
   "source": [
    "On observe que la majorité de données sont décorrélées car les coefficients non diagonaux sont faibles. "
   ]
  },
  {
   "cell_type": "markdown",
   "metadata": {},
   "source": [
    "Quelques rappels à propos de la notion de covariance : https://fr.wikipedia.org/wiki/Covariance"
   ]
  },
  {
   "cell_type": "markdown",
   "metadata": {},
   "source": [
    "## Exercise 1 : least square regression \n",
    " * Build the matrix of features `X_train` for the training set, the first column is made of ones.\n",
    " * Estimate the regression vector `beta_hat` (estimates= `X*beta_hat`)\n",
    " _Indication: you may either use the function `inv` or another more efficient way to compute $A^{-1}B$ (think of `A\\B`)._ \n",
    " * What is the value of the first coefficient `beta_hat[0]` ? What does it correspond to ?\n",
    " * Estimate the prediction error (quadratic error) from the test set.\n",
    "\n",
    "\n",
    "*Indication: be careful of using `X_test` defined above, normalized w.r.t. the training data set. You can estimate this error by using:*"
   ]
  },
  {
   "cell_type": "code",
   "execution_count": 4,
   "metadata": {},
   "outputs": [],
   "source": [
    "t_test = data_test[:,8]   # target column\n",
    "N_test = data_test.shape[0]\n",
    "X_test = np.concatenate((np.ones((N_test,1)), M_test[:,0:8]), axis=1) \n",
    "# don't forget the 1st column of ones and normalization !"
   ]
  },
  {
   "cell_type": "code",
   "execution_count": 5,
   "metadata": {},
   "outputs": [
    {
     "name": "stdout",
     "output_type": "stream",
     "text": [
      "Le rang de la X_train est : 9\n"
     ]
    }
   ],
   "source": [
    "# Exercise 1\n",
    "#Build the matrix of features X_train\n",
    "t_train = data_train[:,8]   # target column\n",
    "N_train = data_train.shape[0]\n",
    "X_train = np.concatenate((np.ones((N_train,1)), M_train[:,0:8]), axis=1) \n",
    "#On construit X_train en rajoutant la colonne des 1 pour avoir X_train tild et en normalisant le vecteur \n",
    "\n",
    "print (f\"Le rang de la X_train est : {np.linalg.matrix_rank(X_train)}\")\n",
    "\n",
    "#X_train est de rang plein donc on pourra calculer sa pseudo inverse de Moore Penrose dans la suite."
   ]
  },
  {
   "cell_type": "markdown",
   "metadata": {},
   "source": [
    "$MP = (X^{T}X)^{-1}X$"
   ]
  },
  {
   "cell_type": "code",
   "execution_count": 6,
   "metadata": {},
   "outputs": [
    {
     "name": "stdout",
     "output_type": "stream",
     "text": [
      " Le premier coefficient b0 est le biais du model et il vaut : 2.452\n"
     ]
    }
   ],
   "source": [
    "MP = np.dot(np.linalg.inv(np.dot(X_train.T,X_train)),X_train.T) #Pseudo inverse de Moore Penrose\n",
    " \n",
    "beta_hat=MP@t_train\n",
    "print(f\" Le premier coefficient b0 est le biais du model et il vaut : {np.round(beta_hat[0],3)}\")"
   ]
  },
  {
   "cell_type": "code",
   "execution_count": 7,
   "metadata": {},
   "outputs": [
    {
     "name": "stdout",
     "output_type": "stream",
     "text": [
      "L'erreur quadratique du modèle est de 15.638\n"
     ]
    }
   ],
   "source": [
    "#La prédiction de l'erreur:\n",
    "\n",
    "t_test_hat = X_test@beta_hat\n",
    "Error_test = t_test_hat-t_test\n",
    "\n",
    "print(f\"L'erreur quadratique du modèle est de {np.round(np.linalg.norm(Error_test,2)**2,3)}\")"
   ]
  },
  {
   "cell_type": "markdown",
   "metadata": {},
   "source": [
    "## Rejection test, computation of Z-scores\n",
    "Now we turn to the selection of the most significant entries so that our predictor be more robust. The essential idea is that our estimates will be more robust if only the most significant entries are taken into account. As a consequence, note that we will *reduce the dimension* of the problem from |p=8| to some smaller dimension. The present approach uses a statistical test to decide whether the regression coefficient corresponding to some entry is significantly non-zero. Then we can decide either to put non significant coefficients to zero, or to select the significant entries only and estimate the new reduced regression vector.\n",
    "\n",
    "Let's assume that target values are noisy due to some white Gaussian\n",
    "noise with variance $\\sigma^2$ (see Hastie & Tibshirani p. 47). One can show that the estimated regression vector |beta_hat| is also Gaussian with variance\n",
    "\n",
    "$$ var (\\widehat{\\beta}) = (X^TX)^{-1}\\sigma^2.$$  \n",
    "\n",
    "One can also show that the estimator of the variance (from the training set)\n",
    "\n",
    "$$\\widehat{\\sigma^2}=\\frac{1}{(N-p-1)}\\sum (t_n-\\widehat{t}_n)^2$$\n",
    "\n",
    "obeys a Chi-2 distribution. As a consequence a Chi-square statistical test can be used to determine whether some coefficient $\\beta_j$ is\n",
    "significantly non-zero. To this aim, one defines the variables $z_j$\n",
    "named Z-scores which in turn obey a Fisher law, also called\n",
    "$t$-distribution, which are often used in statistics:\n",
    "\n",
    "$$ z_j = \\frac{\\beta_j}{\\widehat{\\sigma}\\sqrt{v_j}} $$\n",
    "\n",
    "where $v_j$ is the $j$-th diagonal element of the matrix $(X^TX)^{-1}$.\n",
    "For sake of simplicity, we will consider that the null hypothesis of\n",
    "$\\beta_j$ is rejected with probability 95% if the Z-score is greater than 2."
   ]
  },
  {
   "cell_type": "markdown",
   "metadata": {},
   "source": [
    "## Exercise 2\n",
    "1. Compute the Z-scores and select the most significant entries.\n",
    "2. Estimate the prediction error over the test set if only these significant \n",
    "entries are taken into account for regression by putting other regression \n",
    "coefficients to zero.\n",
    "3. Estimate the new regression vector when only the significant features\n",
    "are taken into account.\n",
    "4. Compare to previous results (Exercise 1).\n",
    "\n",
    "*Indication 1 : to sort a vector `Z` in descending order*\n",
    "`val = np.sort(np.abs(Z))[-1:0:-1]`\n",
    "\n",
    "\n",
    "*Indication 2 :* to extract the diagonal of a matrix,\n",
    "`vXX = np.diag(inv(X.T.dot(X),k=0)`"
   ]
  },
  {
   "cell_type": "code",
   "execution_count": 8,
   "metadata": {},
   "outputs": [
    {
     "data": {
      "text/plain": [
       "array([7, 3, 8, 6], dtype=int64)"
      ]
     },
     "execution_count": 8,
     "metadata": {},
     "output_type": "execute_result"
    }
   ],
   "source": [
    "# Exercise 2\n",
    "import pdb\n",
    "def var_GN(X):\n",
    "    return(np.diag(inv(X.T.dot(X))))\n",
    "\n",
    "def sigma_hat(beta_hat,X,t):\n",
    "    p=len(beta_hat)-1 #On enlève 1 pour enlever le biais\n",
    "    N=len(X)\n",
    "    t_hat=X@beta_hat\n",
    "           \n",
    "    return(np.sqrt(np.linalg.norm((t-t_hat),2)**2/(N-p-1)))\n",
    "    \n",
    "def z_score(X,beta_hat,t):\n",
    "    Z=[]\n",
    "    Var = var_GN(X)\n",
    "    s_hat=sigma_hat(beta_hat,X,t)\n",
    "    for j in range(0,len(beta_hat)):\n",
    "        Z.append(beta_hat[j]/(s_hat*np.sqrt(Var[j])))\n",
    "    return(Z)\n",
    "\n",
    "Z_score=z_score(X_train,beta_hat,t_train)\n",
    "\n",
    "df=pd.DataFrame(np.abs(Z_score),columns=[\"Z_score\"])\n",
    "df=df.sort_values(by=[\"Z_score\"])\n",
    "Index_selected = np.array(df[df[\"Z_score\"]<=2].index)\n",
    "Index_selected"
   ]
  },
  {
   "cell_type": "code",
   "execution_count": 19,
   "metadata": {},
   "outputs": [
    {
     "name": "stdout",
     "output_type": "stream",
     "text": [
      "Le rang de la X_train_selected est : 5\n"
     ]
    }
   ],
   "source": [
    "t_train_selected = data_train[:,8]  # target column\n",
    "N_train_selected = t_train_selected.shape[0]\n",
    "X_train_selected = np.concatenate((np.ones((N_train_selected,1)), M_train[:,Index_selected]), axis=1)\n",
    "\n",
    "print (f\"Le rang de la X_train_selected est : {np.linalg.matrix_rank(X_train_selected)}\")\n"
   ]
  },
  {
   "cell_type": "code",
   "execution_count": 20,
   "metadata": {},
   "outputs": [
    {
     "data": {
      "text/plain": [
       "(67,)"
      ]
     },
     "execution_count": 20,
     "metadata": {},
     "output_type": "execute_result"
    }
   ],
   "source": [
    "np.shape(t_train_selected)"
   ]
  },
  {
   "cell_type": "code",
   "execution_count": 23,
   "metadata": {},
   "outputs": [
    {
     "name": "stdout",
     "output_type": "stream",
     "text": [
      " Le premier coefficient b0 est le biais du model et il vaut : -7.216449660063518e-15\n"
     ]
    }
   ],
   "source": [
    "MP_selected = np.dot(np.linalg.inv(np.dot(X_train_selected.T,X_train_selected)),X_train_selected.T) #Pseudo inverse de Moore Penrose\n",
    " \n",
    "beta_hat_selected=MP_selected@t_train_selected\n",
    "print(f\" Le premier coefficient b0 est le biais du model et il vaut : {beta_hat_selected[0]}\")"
   ]
  },
  {
   "cell_type": "code",
   "execution_count": 25,
   "metadata": {},
   "outputs": [
    {
     "data": {
      "text/plain": [
       "array([-7.21644966e-15, -8.32667268e-17, -1.66533454e-16,  1.00000000e+00,\n",
       "        1.66533454e-16])"
      ]
     },
     "execution_count": 25,
     "metadata": {},
     "output_type": "execute_result"
    }
   ],
   "source": [
    "beta_hat_selected"
   ]
  },
  {
   "cell_type": "markdown",
   "metadata": {},
   "source": [
    "# Part 2: Regularized least squares\n",
    "This part deals with regularized least square regression. We denote\n",
    "by `beta_hat_reg` the resulting coefficients. This approach is an alternative to the selection based on statistical tests above. The idea is now to penalize large values of regression coefficients, *except for the bias*.\n",
    "\n",
    "We use the result:\n",
    "\n",
    "$$\\hat{\\beta} = (\\lambda I_p + X_c^T X_c)^{-1} X_c^T t_c$$\n",
    "\n",
    "where $X_c$ contains the normalized entries of the training data set with \n",
    "no column of ones (the bias should no be penalized and is processed). \n",
    "The targets `t_c` are therefore also centered, `t_c=t-mean(t)`.\n",
    " \n",
    "First, we estimate the bias $t_0$ to center the targets which yields the coefficient $\\beta_0$, that is `beta_hat_reg[0]` in Python.\n",
    "\n",
    "*Remark : the bias is estimated as the empirical average of targets.\n",
    "For tests, entries should be normalized with respect to the means and\n",
    "variances of the training data set (see exercise 3.5 p. 95 in Hastie & Tibshirani). Then work on the vector of entries with no column of ones.*"
   ]
  },
  {
   "cell_type": "markdown",
   "metadata": {},
   "source": [
    "## Exercise 3\n",
    "1. Use _ridge regression_ for penalty `lambda = 25` to estimate the regression vector. \n",
    "2. Estimate the prediction error from the test set.\n",
    "3. Compare the results (coefficients $\\beta$, error...) to previous ones.\n",
    "4. You may also compare these results to the result of best subset selection below:\n",
    "\n",
    "`beta_best = [2.477 0.74 0.316 0 0 0 0 0 0]`.\n",
    "\n",
    "*Indication : a simple way to obtain predictions for the test data set is the code below:*"
   ]
  },
  {
   "cell_type": "code",
   "execution_count": 27,
   "metadata": {},
   "outputs": [],
   "source": [
    "t = data_train[:,8]   # column of targets\n",
    "t0 = np.mean(t)\n",
    "\n",
    "N_test = data_test.shape[0]\n",
    "X_test = np.hstack((np.ones((N_test,1)), M_test[:,0:8]))  \n",
    "t_test = data_test[:,8]  \n"
   ]
  },
  {
   "cell_type": "code",
   "execution_count": null,
   "metadata": {},
   "outputs": [],
   "source": []
  },
  {
   "cell_type": "code",
   "execution_count": null,
   "metadata": {},
   "outputs": [],
   "source": [
    "# Here the 1st column of X_test is a column of ones.\n",
    "t_hat_reg = X_test.dot(beta_hat_reg)"
   ]
  },
  {
   "cell_type": "markdown",
   "metadata": {},
   "source": [
    "# Part 3: Cross-Validation \n",
    "\n",
    "## How to choose lambda from the training data set only ? \n",
    "\n",
    "The idea is to decompose the training set in 2 subsets: one subset for\n",
    "linear regression (say 9/10 of the data), the other to estimate the prediction error (say 1/10 of the data).\n",
    "\n",
    "We can repeat this operation 10 times over the 10 possible couples of\n",
    "subsets to estimate the average prediction error. We will choose the\n",
    "value of `lambda` which minimizes this error. The algorithm goes as\n",
    "follows:\n",
    "\n",
    "For the 10 cross-validation cases\n",
    "    \n",
    "    Extraction of test & training subsets `testset` & `trainset`\n",
    "    \n",
    "    For lambda in 0:40\n",
    "        Estimate `beta_hat` from normalized `trainset` (mean=0, var=1)\n",
    "        Estimate the error from  `testset`\n",
    "    EndFor lambda\n",
    "\n",
    "EndFor 10 cases\n",
    "\n",
    "Compute the average error for each lambda\n",
    "\n",
    "Choose `lambda` which minimizes the error \n"
   ]
  },
  {
   "cell_type": "markdown",
   "metadata": {},
   "source": [
    "## Exercise 4\n",
    "* Use 6-fold cross-validation in the present study to optimize the choice of `lambda`. \n",
    "Try values of `lambda` ranging from 0 to 40 for instance (0:40).\n",
    "* Plot the estimated error as a function of `lambda`.\n",
    "* Propose a well chosen value of `lambda` and give the estimated corresponding\n",
    "error on the test set.\n",
    "* Comment on your results.\n",
    "\n",
    "*Indication 1 : think of shuffling the dataset first.*\n",
    "\n",
    "*Indication 2 : you can build 6 training and test subsets by using the code below*"
   ]
  },
  {
   "cell_type": "code",
   "execution_count": null,
   "metadata": {},
   "outputs": [],
   "source": [
    "lmax = 40\n",
    "lambda_pos = arange(0,lmax+1) \n",
    "\n",
    "N_test = 10\n",
    "m=np.zeros(8)\n",
    "s = np.zeros(8)\n",
    "X_traink = np.zeros((X_train.shape[0]-N_test,8))\n",
    "X_testk = np.zeros((N_test,8))\n",
    "erreur = np.zeros((6,lmax+1))\n",
    "erreur_rel = np.zeros((6,lmax+1))"
   ]
  },
  {
   "cell_type": "code",
   "execution_count": null,
   "metadata": {},
   "outputs": [],
   "source": [
    "# Exercise 4 \n",
    "for p in range(6):   # loop on test subsets\n",
    "    # extraction of testset\n",
    "    testset  = data_train[arange(p*N_test,(p+1)*N_test),0:9] \n",
    "    # extraction of trainset\n",
    "    trainset = data_train[hstack((arange(p*N_test),arange((p+1)*N_test,data_train.shape[0]))),0:9] \n",
    "    # normalization of entries, \n",
    "    # ..."
   ]
  },
  {
   "cell_type": "code",
   "execution_count": null,
   "metadata": {},
   "outputs": [],
   "source": [
    "# Exercise 4 ---------------\n",
    "# ...\n",
    "# averaged error on the 6 training/test sets ?\n",
    "# averaged error on the 6 training/test sets ?\n",
    "# standard variation of this error estimate ?\n",
    "\n",
    "# print(erreur_lambda, std_erreur_lambda, erreur_rel_lambda)\n"
   ]
  },
  {
   "cell_type": "code",
   "execution_count": null,
   "metadata": {},
   "outputs": [],
   "source": [
    "# Exercise 4 FIGURE ---------------\n",
    "# ...\n"
   ]
  },
  {
   "cell_type": "code",
   "execution_count": null,
   "metadata": {},
   "outputs": [],
   "source": [
    "# Exercise 4 (continued)"
   ]
  }
 ],
 "metadata": {
  "kernelspec": {
   "display_name": "Python 3",
   "language": "python",
   "name": "python3"
  },
  "language_info": {
   "codemirror_mode": {
    "name": "ipython",
    "version": 3
   },
   "file_extension": ".py",
   "mimetype": "text/x-python",
   "name": "python",
   "nbconvert_exporter": "python",
   "pygments_lexer": "ipython3",
   "version": "3.7.4"
  }
 },
 "nbformat": 4,
 "nbformat_minor": 4
}

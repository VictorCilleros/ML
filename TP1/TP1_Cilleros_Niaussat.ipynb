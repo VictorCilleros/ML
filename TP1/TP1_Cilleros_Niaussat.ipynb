{
 "cells": [
  {
   "cell_type": "markdown",
   "metadata": {},
   "source": [
    "# TP1 : Linear regression"
   ]
  },
  {
   "cell_type": "markdown",
   "metadata": {},
   "source": [
    "The purpose of this work is to implement least square linear regression to medical data. The problem is based on an example described in the book by Hastie & Tibshirani (2009) pp. 3-4 & 49-63. Data come from a study published by Stamey et al. (1989). This study aims at the prediction of the level of prostate specific antigen, denoted by `lpsa` below, from the\n",
    "results of clinical exams. These exams are carried out before a possible\n",
    "prostatectomy.\n",
    "\n",
    "The measurements are log cancer volume `lcavol`, log prostate \n",
    "weight `lweight`, age of the patient `age`, log of benign prostatic \n",
    "hyperplasia amount `lbph`, seminal vesicle invasion `svi`, log of capsular \n",
    "penetration `lcp`, Gleason score `gleason`, and percent of Gleason scores 4 or \n",
    "5 `pgg45`. The variables `svi` and `gleason` are categorical, others are\n",
    "quantitative. There are `p=8` entries.\n",
    "The work is decomposed in the following tasks:\n",
    "\n",
    "* read and format the data : extraction of the training and test sets,\n",
    "* apply least square regression method to predict `lpsa` from the entries,\n",
    "* study the estimated error on the test set (validation),\n",
    "* identify the most significant entries by using a rejection test,\n",
    "* apply regularized least square regression method (ridge regression),\n",
    "* search for an optimal regularization parameter thanks to\n",
    "cross-validation."
   ]
  },
  {
   "cell_type": "code",
   "execution_count": 1,
   "metadata": {},
   "outputs": [],
   "source": [
    "import csv\n",
    "# import os\n",
    "from pylab import *\n",
    "import numpy as np\n",
    "from numpy import linalg as la\n",
    "\n",
    "import pandas as pd\n",
    "import seaborn as sns"
   ]
  },
  {
   "cell_type": "markdown",
   "metadata": {},
   "source": [
    "## Read & Normalize data\n",
    "Data are stored in ASCII format: \n",
    "\n",
    "* the first column enumerates the data from 1 à 97 (97 male subjects). \n",
    "* columns 2 to 9 contain the entries themselves. \n",
    "* column 10 contains target values. \n",
    "* column 11 contains label 1 for the training set, \n",
    "and 2 for the test set."
   ]
  },
  {
   "cell_type": "code",
   "execution_count": 2,
   "metadata": {
    "pycharm": {
     "name": "#%% To read data from spaced separated float numbers\n"
    }
   },
   "outputs": [],
   "source": [
    "# x, y = np.loadtxt(c, delimiter=',', usecols=(0, 2), unpack=True)\n",
    "\n",
    "data_init = np.loadtxt('prostate_data_sansheader.txt')\n",
    "\n",
    "data = data_init[:,1:]   # we get rid of the indices (1 to 97)"
   ]
  },
  {
   "cell_type": "code",
   "execution_count": 3,
   "metadata": {
    "pycharm": {
     "name": "#%% Extraction of training/test sets\n"
    }
   },
   "outputs": [],
   "source": [
    "Itrain = np.nonzero(data[:,-1]==1)\n",
    "data_train=data[Itrain]   # original data\n",
    "\n",
    "Itest = np.nonzero(data[:,-1]==0)\n",
    "data_test = data[Itest]   # original data"
   ]
  },
  {
   "cell_type": "markdown",
   "metadata": {},
   "source": [
    "**Normalization of the data** *with respect to the mean and standard deviation of the training set*."
   ]
  },
  {
   "cell_type": "code",
   "execution_count": 4,
   "metadata": {},
   "outputs": [],
   "source": [
    "M_train = data_train\n",
    "M_test = data_test \n",
    "moy = np.zeros((8,))\n",
    "sigma = np.zeros((8,))\n",
    "\n",
    "# With a FOR loop :\n",
    "for k in range(8): # 8 columns of entries\n",
    "    moy[k]=np.mean(data_train[:,k])\n",
    "    sigma[k] = np.std(data_train[:,k], ddof=0)\n",
    "    M_train[:,k] = (data_train[:,k]-moy[k])/sigma[k] # normalized: centered, variance 1\n",
    "    M_test[:,k] = (data_test[:,k]-moy[k])/sigma[k]   # same normalization for test set\n"
   ]
  },
  {
   "cell_type": "code",
   "execution_count": 4,
   "metadata": {},
   "outputs": [],
   "source": [
    "# Alternative WITHOUT FOR\n",
    "normalize = lambda vec: (vec-np.mean(vec))/np.std(vec)    # inline function \n",
    "M_train = np.array( [ normalize(vec) for vec in data_train[:,0:8].T ] ).T  # iterate on vec direct / ARRAY not LIST\n",
    "moy = np.array( [ np.mean(vec) for vec in data_train[:,0:8].T ] )\n",
    "sigma = np.array( [ np.std(vec, ddof=0) for vec in data_train[:,0:8].T ] )\n",
    "\n",
    "M_test = np.array([ (data_test[:,k]-moy[k])/sigma[k] for k in range(M_train.shape[1]) ] ).T"
   ]
  },
  {
   "cell_type": "markdown",
   "metadata": {},
   "source": [
    "# Part 1 : simple least square regression"
   ]
  },
  {
   "cell_type": "markdown",
   "metadata": {},
   "source": [
    "## Preliminary questions\n",
    " \n",
    " * Compute the autocovariance matrix from the training set.\n",
    " * Observe carefully & Comment. What kind of information can you get ? "
   ]
  },
  {
   "cell_type": "code",
   "execution_count": 5,
   "metadata": {},
   "outputs": [
    {
     "data": {
      "text/plain": [
       "<matplotlib.axes._subplots.AxesSubplot at 0x2688bef7148>"
      ]
     },
     "execution_count": 5,
     "metadata": {},
     "output_type": "execute_result"
    },
    {
     "data": {
      "image/png": "[encoded data removed]",
      "text/plain": [
       "<Figure size 432x288 with 2 Axes>"
      ]
     },
     "metadata": {
      "needs_background": "light"
     },
     "output_type": "display_data"
    }
   ],
   "source": [
    "# Preliminary questions\n",
    "Mcov=np.cov(M_train.T)\n",
    "sns.heatmap(Mcov)"
   ]
  },
  {
   "cell_type": "markdown",
   "metadata": {},
   "source": [
    "La majorité des attributs sont décorrélés entre eux. \n",
    "Cependant certains ont une corrélation proche de 1.La diagonale est bien 1 partout.\n",
    "->  Par exemple l'attribut 6 est quasiment corrélé avec le 7 : il est possible que lors de l'implémentation de l'estimateur, l'utilisation d'une seule des deux soit nécessaires.\n",
    "Nous allons regarder en détail leur covariance avec les targets pour confirmer le besoin de garder deux attributs ou pas.\n"
   ]
  },
  {
   "cell_type": "code",
   "execution_count": 9,
   "metadata": {},
   "outputs": [
    {
     "data": {
      "text/plain": [
       "<matplotlib.axes._subplots.AxesSubplot at 0x2688e323248>"
      ]
     },
     "execution_count": 9,
     "metadata": {},
     "output_type": "execute_result"
    },
    {
     "data": {
      "image/png": "[encoded data removed]",
      "text/plain": [
       "<Figure size 432x288 with 2 Axes>"
      ]
     },
     "metadata": {
      "needs_background": "light"
     },
     "output_type": "display_data"
    }
   ],
   "source": [
    "#Ajouter les targets dans X pour estimation de la covariance avec attributs et cible\n",
    "t_train=np.array([data_train[:,8]])\n",
    "M_train_t = np.concatenate((M_train,t_train.T),axis=1)\n",
    "M_cov_t=np.cov(M_train_t.T)\n",
    "sns.heatmap(M_cov_t)"
   ]
  },
  {
   "cell_type": "markdown",
   "metadata": {},
   "source": [
    "La norme ici n'est plus échelonnée sur 1 car les target ne sont pas normalisées. On remarque que la target est corrélée avec les features. On pourra donc réaliser un modèle de prédiction."
   ]
  },
  {
   "cell_type": "markdown",
   "metadata": {},
   "source": [
    "Quelques rappels à propos de la notion de covariance : https://fr.wikipedia.org/wiki/Covariance"
   ]
  },
  {
   "cell_type": "markdown",
   "metadata": {},
   "source": [
    "## Exercise 1 : least square regression \n",
    " * Build the matrix of features `X_train` for the training set, the first column is made of ones.\n",
    " * Estimate the regression vector `beta_hat` (estimates= `X*beta_hat`)\n",
    " _Indication: you may either use the function `inv` or another more efficient way to compute $A^{-1}B$ (think of `A\\B`)._ \n",
    " * What is the value of the first coefficient `beta_hat[0]` ? What does it correspond to ?\n",
    " * Estimate the prediction error (quadratic error) from the test set.\n",
    "\n",
    "\n",
    "*Indication: be careful of using `X_test` defined above, normalized w.r.t. the training data set. You can estimate this error by using:*"
   ]
  },
  {
   "cell_type": "code",
   "execution_count": 13,
   "metadata": {},
   "outputs": [],
   "source": [
    "t_test = data_test[:,8]   # target column\n",
    "N_test = data_test.shape[0]\n",
    "X_test = np.concatenate((np.ones((N_test,1)), M_test[:,0:8]), axis=1) \n",
    "# don't forget the 1st column of ones and normalization !"
   ]
  },
  {
   "cell_type": "code",
   "execution_count": 40,
   "metadata": {},
   "outputs": [
    {
     "name": "stdout",
     "output_type": "stream",
     "text": [
      "Le rang de la X_train est : 9\n",
      "Nombre d'attribut : 9\n"
     ]
    }
   ],
   "source": [
    "# Exercise 1\n",
    "#On va d'abord créer la matrice X_train (X_train en rajoutant la colonne des 1) :\n",
    "t_train = data_train[:,8]   # target column\n",
    "N_train = data_train.shape[0]\n",
    "X_train = np.concatenate((np.ones((N_train,1)), M_train[:,0:8]), axis=1)\n",
    "\n",
    "print (f\"Le rang de la X_train est : {np.linalg.matrix_rank(X_train)}\")\n",
    "print(f\"Nombre d'attribut : {np.shape(X_train)[1]}\")"
   ]
  },
  {
   "cell_type": "markdown",
   "metadata": {},
   "source": [
    "# Rang de $X_{train}$ :\n",
    "X_train est de rang plein donc on pourra calculer son pseudo inverse de Moore Penrose dans la suite.\n",
    "Par la formule de cours on connait la valeur de l'estimateur optimal :"
   ]
  },
  {
   "cell_type": "markdown",
   "metadata": {},
   "source": [
    "$MP = (X^{T}X)^{-1}X$"
   ]
  },
  {
   "cell_type": "code",
   "execution_count": 15,
   "metadata": {},
   "outputs": [],
   "source": [
    "# Calcul de cette matrice :\n",
    "MP = np.dot(np.linalg.inv(np.dot(X_train.T,X_train)),X_train.T) #Pseudo inverse de Moore Penrose"
   ]
  },
  {
   "cell_type": "markdown",
   "metadata": {},
   "source": [
    "# Estimateur : $\\beta_{hat}$"
   ]
  },
  {
   "cell_type": "code",
   "execution_count": 42,
   "metadata": {},
   "outputs": [
    {
     "name": "stdout",
     "output_type": "stream",
     "text": [
      " Le premier coefficient b0 est le biais du modèle et il vaut : 2.452\n",
      "L'estimation de t0 vaut 2.452\n",
      "Estimateur :[ 2.452  0.711  0.29  -0.141  0.21   0.307 -0.287 -0.021  0.275]\n"
     ]
    }
   ],
   "source": [
    "beta_hat=MP@t_train\n",
    "print(f\" Le premier coefficient b0 est le biais du modèle et il vaut : {np.round(beta_hat[0],3)}\")\n",
    "print(f\"L'estimation de t0 vaut {np.round(np.mean(t_train),3)}\")\n",
    "\n",
    "print(f\"Estimateur :{np.round(beta_hat,3)}\")\n"
   ]
  },
  {
   "cell_type": "markdown",
   "metadata": {},
   "source": [
    "Dans le cas de la régression des moindres carrés, on a bien $t_0 = b_0$ (le biais du modèle)"
   ]
  },
  {
   "cell_type": "code",
   "execution_count": 20,
   "metadata": {},
   "outputs": [
    {
     "name": "stdout",
     "output_type": "stream",
     "text": [
      "L'erreur quadratique du modèle est de 0.521\n"
     ]
    }
   ],
   "source": [
    "#La prédiction de l'erreur:\n",
    "t_test_hat = X_test@beta_hat\n",
    "\n",
    "\n",
    "Error_LS = np.linalg.norm(t_test_hat-t_test,2)**2/N_test\n",
    "print(f\"L'erreur quadratique du modèle est de {np.round(Error_LS,3)}\")"
   ]
  },
  {
   "cell_type": "markdown",
   "metadata": {},
   "source": [
    "L'erreur quadratique du modèle s'écrit $E_{LS} = \\frac{1}{N_{test}}\\|\\hat{\\beta}^{T}X_{test}-t_{test}\\|^{2}$.\\\n",
    "On divise l'erreur par $N_{test}$ pour pouvoir comparer les modèles entres eux, indépendament de la taille de l'ensemble de test. \\ \n",
    "Dans la suite, cette erreur sera comparée aux autres."
   ]
  },
  {
   "cell_type": "markdown",
   "metadata": {},
   "source": [
    "## Rejection test, computation of Z-scores\n",
    "Now we turn to the selection of the most significant entries so that our predictor be more robust. The essential idea is that our estimates will be more robust if only the most significant entries are taken into account. As a consequence, note that we will *reduce the dimension* of the problem from |p=8| to some smaller dimension. The present approach uses a statistical test to decide whether the regression coefficient corresponding to some entry is significantly non-zero. Then we can decide either to put non significant coefficients to zero, or to select the significant entries only and estimate the new reduced regression vector.\n",
    "\n",
    "Let's assume that target values are noisy due to some white Gaussian\n",
    "noise with variance $\\sigma^2$ (see Hastie & Tibshirani p. 47). One can show that the estimated regression vector |beta_hat| is also Gaussian with variance\n",
    "\n",
    "$$ var (\\widehat{\\beta}) = (X^TX)^{-1}\\sigma^2.$$  \n",
    "\n",
    "One can also show that the estimator of the variance (from the training set)\n",
    "\n",
    "$$\\widehat{\\sigma^2}=\\frac{1}{(N-p-1)}\\sum (t_n-\\widehat{t}_n)^2$$\n",
    "\n",
    "obeys a Chi-2 distribution. As a consequence a Chi-square statistical test can be used to determine whether some coefficient $\\beta_j$ is\n",
    "significantly non-zero. To this aim, one defines the variables $z_j$\n",
    "named Z-scores which in turn obey a Fisher law, also called\n",
    "$t$-distribution, which are often used in statistics:\n",
    "\n",
    "$$ z_j = \\frac{\\beta_j}{\\widehat{\\sigma}\\sqrt{v_j}} $$\n",
    "\n",
    "where $v_j$ is the $j$-th diagonal element of the matrix $(X^TX)^{-1}$.\n",
    "For sake of simplicity, we will consider that the null hypothesis of\n",
    "$\\beta_j$ is rejected with probability 95% if the Z-score is greater than 2."
   ]
  },
  {
   "cell_type": "markdown",
   "metadata": {},
   "source": [
    "## Exercise 2\n",
    "1. Compute the Z-scores and select the most significant entries.\n",
    "2. Estimate the prediction error over the test set if only these significant \n",
    "entries are taken into account for regression by putting other regression \n",
    "coefficients to zero.\n",
    "3. Estimate the new regression vector when only the significant features\n",
    "are taken into account.\n",
    "4. Compare to previous results (Exercise 1).\n",
    "\n",
    "*Indication 1 : to sort a vector `Z` in descending order*\n",
    "`val = np.sort(np.abs(Z))[-1:0:-1]`\n",
    "\n",
    "\n",
    "*Indication 2 :* to extract the diagonal of a matrix,\n",
    "`vXX = np.diag(inv(X.T.dot(X),k=0)`"
   ]
  },
  {
   "cell_type": "markdown",
   "metadata": {},
   "source": [
    "# Exercise 2"
   ]
  },
  {
   "cell_type": "markdown",
   "metadata": {},
   "source": [
    "   1. Définissons les fonctions pour calculer la variance $v_{j}$, $\\hat{\\sigma} $ et enfin $Z_{score}$"
   ]
  },
  {
   "cell_type": "markdown",
   "metadata": {},
   "source": [
    "Cette fonction permet de renvoyer une liste des éléments diagonaux de  $(X^TX)^{-1}$ qui correpondent aux $(v_j)$"
   ]
  },
  {
   "cell_type": "code",
   "execution_count": 29,
   "metadata": {},
   "outputs": [],
   "source": [
    "# Renvoie une liste avec les éléments diagonaux\n",
    "def var(X):\n",
    "    return(np.diag(inv(X.T.dot(X))))"
   ]
  },
  {
   "cell_type": "code",
   "execution_count": 28,
   "metadata": {},
   "outputs": [],
   "source": [
    "def sigma_hat(beta_hat,X,t):\n",
    "    p=len(beta_hat)-1 #On enlève 1 pour enlever le biais\n",
    "    N=len(X)\n",
    "    t_hat=X@beta_hat\n",
    "    return(np.sqrt(np.linalg.norm((t-t_hat),2)**2/(N-p-1))) #On applique la formule qui estime la variance"
   ]
  },
  {
   "cell_type": "code",
   "execution_count": 30,
   "metadata": {},
   "outputs": [],
   "source": [
    "def z_score(X,beta_hat,t):\n",
    "    Z=[]\n",
    "    Var = var(X)\n",
    "    s_hat=sigma_hat(beta_hat,X,t)\n",
    "    for j in range(0,len(beta_hat)):\n",
    "        Z.append(beta_hat[j]/(s_hat*np.sqrt(Var[j]))) \n",
    "    return(Z)"
   ]
  },
  {
   "cell_type": "code",
   "execution_count": 33,
   "metadata": {},
   "outputs": [
    {
     "name": "stdout",
     "output_type": "stream",
     "text": [
      "Vecteur des Z_score:[28.18  5.37  2.75 -1.4   2.06  2.47 -1.87 -0.15  1.74]\n"
     ]
    }
   ],
   "source": [
    "zScore=z_score(X_train,beta_hat,t_train)\n",
    "print(f\"Vecteur des Z_score:{np.round(zScore,2)}\")"
   ]
  },
  {
   "cell_type": "code",
   "execution_count": 34,
   "metadata": {},
   "outputs": [
    {
     "name": "stdout",
     "output_type": "stream",
     "text": [
      "Indices sélectionnés :  [0, 1, 2, 4, 5]\n",
      "Indices rejetées :  [3, 6, 7, 8]\n"
     ]
    }
   ],
   "source": [
    "Id_selected = []\n",
    "Id_rejected = []\n",
    "for i in range (len(zScore)):\n",
    "    if zScore[i]>2:             #On inclut l'attribut en question si son Z_score > 2 \n",
    "        Id_selected.append(i) \n",
    "    else:\n",
    "        Id_rejected.append(i)  #On rejète l'hypothèse H0\n",
    "        \n",
    "        \n",
    "print(f\"Indices sélectionnés :  {Id_selected}\")\n",
    "print(f\"Indices rejetées :  {Id_rejected}\")\n",
    "\n"
   ]
  },
  {
   "cell_type": "markdown",
   "metadata": {},
   "source": [
    "# A. Estimateur en annulant les attributs "
   ]
  },
  {
   "cell_type": "code",
   "execution_count": 43,
   "metadata": {},
   "outputs": [
    {
     "name": "stdout",
     "output_type": "stream",
     "text": [
      "Taille de beta_hat_new : 9\n",
      "Estimateur : [2.45 0.71 0.29 0.   0.21 0.31 0.   0.   0.  ]\n"
     ]
    }
   ],
   "source": [
    "beta_hat_new = np.copy(beta_hat)\n",
    "beta_hat_new[Id_rejected] = 0 \n",
    "\n",
    "print(f\"Taille de beta_hat_new : {len(beta_hat_new)}\")\n",
    "print(f\"Estimateur : {np.round(beta_hat_new,2)}\")"
   ]
  },
  {
   "cell_type": "code",
   "execution_count": 36,
   "metadata": {},
   "outputs": [
    {
     "name": "stdout",
     "output_type": "stream",
     "text": [
      "L'erreur quadratique du modèle est de 0.452\n"
     ]
    }
   ],
   "source": [
    "t_test_hat = X_test@beta_hat_new\n",
    "Error_LS = np.linalg.norm(t_test_hat-t_test,2)**2/N_test\n",
    "print(f\"L'erreur quadratique du modèle est de {np.round(Error_LS,3)}\")"
   ]
  },
  {
   "cell_type": "markdown",
   "metadata": {},
   "source": [
    "On constate une diminution de l'erreur quadratique. On peut en conclure que certains attributs n'étaient pas nécessaires à la prédiction du modèle. Les utiliser ne permet pas une meilleure régression linéaire. \n",
    "Maintenant nous allons vérifier si construire un estimateur sans ces attributs nous permet d'avoir un estimateur encore plus performant."
   ]
  },
  {
   "cell_type": "markdown",
   "metadata": {},
   "source": [
    "# B.  Réduisons maintenant l'espace des features à l'aide de la sélection du $Z_{score}$"
   ]
  },
  {
   "cell_type": "code",
   "execution_count": 39,
   "metadata": {},
   "outputs": [
    {
     "name": "stdout",
     "output_type": "stream",
     "text": [
      "Le rang de la X_train_selected est : 6\n",
      "Nombre d'attribut : 6\n"
     ]
    }
   ],
   "source": [
    "t_train_selected = data_train[:,8]  # target column\n",
    "N_train_selected = t_train_selected.shape[0]\n",
    "X_train_selected = np.concatenate((np.ones((N_train_selected,1)), M_train[:,Id_selected]), axis=1) \n",
    "#On sélectionne uniquement les features avec un Z_score > 2\n",
    "\n",
    "print (f\"Le rang de la X_train_selected est : {np.linalg.matrix_rank(X_train_selected)}\")\n",
    "print(f\"Nombre d'attributs : {np.shape(X_train_selected)[1]}\")"
   ]
  },
  {
   "cell_type": "code",
   "execution_count": 44,
   "metadata": {},
   "outputs": [
    {
     "name": "stdout",
     "output_type": "stream",
     "text": [
      " Le premier coefficient b0 est le biais du model et il vaut : 2.452\n",
      "Estimateur :[ 2.452  0.727  0.355 -0.058  0.281 -0.151]\n"
     ]
    }
   ],
   "source": [
    "MP_selected = np.dot(np.linalg.inv(np.dot(X_train_selected.T,X_train_selected)),X_train_selected.T) #Pseudo inverse de Moore Penrose\n",
    " \n",
    "beta_hat_selected=MP_selected@t_train_selected\n",
    "print(f\" Le premier coefficient b0 est le biais du model et il vaut : {np.round(beta_hat_selected[0],3)}\")\n",
    "print(f\"Estimateur :{np.round(beta_hat_selected,3)}\")"
   ]
  },
  {
   "cell_type": "code",
   "execution_count": 45,
   "metadata": {},
   "outputs": [
    {
     "name": "stdout",
     "output_type": "stream",
     "text": [
      "L'erreur quadratique du modèle est de 0.423\n"
     ]
    }
   ],
   "source": [
    "t_test_selected = data_test[:,8]   # target column\n",
    "N_test_selected = data_test.shape[0]\n",
    "X_test_selected = np.concatenate((np.ones((N_test_selected,1)), M_test[:,Id_selected]), axis=1)\n",
    "#On sélectionne uniquement les features avec un Z_score > 2\n",
    "\n",
    "t_test_hat = X_test_selected@beta_hat_selected\n",
    "Error_LS = np.linalg.norm(t_test_hat-t_test,2)**2/N_test\n",
    "print(f\"L'erreur quadratique du modèle est de {np.round(Error_LS,3)}\")"
   ]
  },
  {
   "cell_type": "markdown",
   "metadata": {},
   "source": [
    "En diminuant la dimension de l'espace des features en considérons seulement les features rejetant $H_0$, on diminue l'erreur quadratique. Ce modèle est plus performant que les deux autres.\n",
    "Deux choses à noter : on améliore le modèle en terme d'erreur et le modèle a moins de paramètres."
   ]
  },
  {
   "cell_type": "markdown",
   "metadata": {},
   "source": [
    "Résumé des erreurs quadratiques : \n",
    "\n",
    " La régression linéaire simple nous donne une erreur de : 0.521  \\\n",
    " La régression avec la mise à 0 des composantes de $\\beta$ : 0.452 \\\n",
    " La régression avec régression avec uniquement les attributs sélectionnés : 0.423\n",
    " \n",
    " \n",
    " Maintenant la question est la suivante : la comparaison des modèles est-elle encore valable pour d'autres jeu de données?\n",
    " En effet nous voudrions savoir si cette conclusion de performance est indépendante du jeu de données en question.\n",
    " Il est possible de chercher à vérifier cette conclusion avec la génération de jeu de données générés selon la même distribution que celui de départ (encore faut-il connaitre la distribution de celui de départ).\n",
    " \n",
    "$ \\textit{ref : Introduction to machine learning :  Tue Herlau, Mikkel N.Schmidt and Morten Morup - Lectures notes Srping 2020}$\n",
    " "
   ]
  },
  {
   "cell_type": "markdown",
   "metadata": {},
   "source": [
    "# Part 2: Regularized least squares\n",
    "This part deals with regularized least square regression. We denote\n",
    "by `beta_hat_reg` the resulting coefficients. This approach is an alternative to the selection based on statistical tests above. The idea is now to penalize large values of regression coefficients, *except for the bias*.\n",
    "\n",
    "We use the result:\n",
    "\n",
    "$$\\hat{\\beta} = (\\lambda I_p + X_c^T X_c)^{-1} X_c^T t_c$$\n",
    "\n",
    "where $X_c$ contains the normalized entries of the training data set with \n",
    "no column of ones (the bias should no be penalized and is processed). \n",
    "The targets `t_c` are therefore also centered, `t_c=t-mean(t)`.\n",
    " \n",
    "First, we estimate the bias $t_0$ to center the targets which yields the coefficient $\\beta_0$, that is `beta_hat_reg[0]` in Python.\n",
    "\n",
    "*Remark : the bias is estimated as the empirical average of targets.\n",
    "For tests, entries should be normalized with respect to the means and\n",
    "variances of the training data set (see exercise 3.5 p. 95 in Hastie & Tibshirani). Then work on the vector of entries with no column of ones.*"
   ]
  },
  {
   "cell_type": "markdown",
   "metadata": {},
   "source": [
    "## Exercise 3\n",
    "1. Use _ridge regression_ for penalty `lambda = 25` to estimate the regression vector. \n",
    "2. Estimate the prediction error from the test set.\n",
    "3. Compare the results (coefficients $\\beta$, error...) to previous ones.\n",
    "4. You may also compare these results to the result of best subset selection below:\n",
    "\n",
    "`beta_best = [2.477 0.74 0.316 0 0 0 0 0 0]`.\n",
    "\n",
    "*Indication : a simple way to obtain predictions for the test data set is the code below:*"
   ]
  },
  {
   "cell_type": "markdown",
   "metadata": {},
   "source": [
    "On estime d'abord $t_0$ à part. Il ne doit pas faire partie de la régularisation."
   ]
  },
  {
   "cell_type": "code",
   "execution_count": 74,
   "metadata": {},
   "outputs": [],
   "source": [
    "t_train = data_train[:,8]\n",
    "t_test = data_test[:,8] # column of targets\n",
    "\n",
    "t0 = np.mean(t_train)\n",
    "\n",
    "N_test = data_test.shape[0]\n",
    "X_test = np.hstack((np.ones((N_test,1)), M_test[:,0:8])) "
   ]
  },
  {
   "cell_type": "markdown",
   "metadata": {},
   "source": [
    "La matrice de Moore Penrose $MP = (\\lambda I +X^{T}X)^{-1}X$"
   ]
  },
  {
   "cell_type": "code",
   "execution_count": 75,
   "metadata": {},
   "outputs": [
    {
     "name": "stdout",
     "output_type": "stream",
     "text": [
      "Le premier coefficient b0 est le biais du modèle et il vaut : 2.452\n",
      "Estimateur :[ 2.452  0.422  0.249 -0.042  0.166  0.231  0.011  0.043  0.132] \n",
      "\n",
      "Tableau des indices de l'estimateur trié : [6 3 7 8 4 5 2 1 0]\n",
      "Indices acceptés par le test Z-score: [0, 1, 2, 4, 5]\n",
      "Indices rejetés par le test Z-score : [3, 6, 7, 8]\n"
     ]
    }
   ],
   "source": [
    "N_train = t_train.shape[0]\n",
    "X_train =  M_train[:,0:8] #On ne considère pas le bais dans la régularisation\n",
    "\n",
    "lambd=25\n",
    "\n",
    "# Calcul de cette matrice :\n",
    "MP_reg = np.dot(np.linalg.inv(lambd*np.identity(8)+np.dot(X_train.T,X_train)),X_train.T) #Pseudo inverse de Moore Penrose\n",
    "\n",
    "beta_hat_reg=np.hstack((np.array([t0]).T,MP_reg@t_train)) #On rajoute le biais estimé à part.\n",
    "\n",
    "print(f\"Le premier coefficient b0 est le biais du modèle et il vaut : {np.round(beta_hat_reg[0],3)}\")\n",
    "print(f\"Estimateur :{np.round(beta_hat_reg,3)} \\n\")\n",
    "print(f\"Tableau des indices de l'estimateur trié : {np.argsort(np.abs(beta_hat_reg))}\")\n",
    "print(f\"Indices acceptés par le test Z-score: {Id_selected}\")\n",
    "print(f\"Indices rejetés par le test Z-score : {Id_rejected}\")"
   ]
  },
  {
   "cell_type": "markdown",
   "metadata": {},
   "source": [
    "On remarque qu'on fait tendre les coefficients \"les moins intéréssants\" pour la régression tendent vers 0. C'est le but du terme de régularisation de la fonction de coût."
   ]
  },
  {
   "cell_type": "markdown",
   "metadata": {},
   "source": [
    "Le tableau trié des indices de l'estimateur (du plus petit au plus grand) nous montre les attributs les plus importants.\n",
    "On remarque que les termes de l'estimateur les plus importants sont ceux dont les indices ont été sélectionnés par le z-score et inversement pour ceux non sélectionnés. "
   ]
  },
  {
   "cell_type": "code",
   "execution_count": 76,
   "metadata": {},
   "outputs": [
    {
     "name": "stdout",
     "output_type": "stream",
     "text": [
      "L'erreur quadratique du modèle est de 0.49394216\n"
     ]
    }
   ],
   "source": [
    "t_hat_reg = X_test.dot(beta_hat_reg)\n",
    "Error_LS = np.linalg.norm(t_hat_reg-t_test,2)**2/N_test\n",
    "Error_RR = Error_LS + lambd*np.linalg.norm(beta_hat_reg,2)/N_test\n",
    "\n",
    "print(f\"L'erreur quadratique du modèle est de {np.round(Error_LS,8)}\")"
   ]
  },
  {
   "cell_type": "markdown",
   "metadata": {},
   "source": [
    " # C. Estimation de l'erreur pour le modèle linéaire $\\beta_{best}$"
   ]
  },
  {
   "cell_type": "code",
   "execution_count": 77,
   "metadata": {},
   "outputs": [
    {
     "name": "stdout",
     "output_type": "stream",
     "text": [
      "L'erreur quadratique du modèle est de 0.4936867\n"
     ]
    }
   ],
   "source": [
    "beta_best = np.array([2.477 ,0.74 ,0.316,0, 0, 0, 0, 0, 0])\n",
    "t_hat_best = X_test.dot(beta_best)\n",
    "\n",
    "Error_LS = np.linalg.norm(t_hat_best-t_test,2)**2/N_test\n",
    "print(f\"L'erreur quadratique du modèle est de {np.round(Error_LS,8)}\")"
   ]
  },
  {
   "cell_type": "markdown",
   "metadata": {},
   "source": [
    "# Conclusion Partie 2\n",
    "\n",
    "\n",
    "Résumé des erreurs quadratiques : \n",
    "\n",
    " La régression linéaire simple nous donne une erreur de : 0.521  \\\n",
    " La régression avec la mise à 0 des composantes de $\\beta$ : 0.452 \\\n",
    " La régression avec régression avec uniquement les attributs sélectionnés : 0.423 \n",
    "            \n",
    " La régression régularisé avec $\\lambda=25$  : 0.4939 \\\n",
    " La régression $\\beta_{best}$ : 0.4936\n",
    "            "
   ]
  },
  {
   "cell_type": "markdown",
   "metadata": {},
   "source": [
    "On remarque que le modèle régularisé a de meilleures performances que le modèle de régression simple. \\\n",
    "Néanmoins, il est moins bon que les modèles calculés avec les $Z_ {score}$\n",
    "Le modèle régularisé et $\\beta_{best}$ on quasiment les mêmes résultats. \\\n",
    "(Pourquoi $\\beta_{best}$ n'a pas le même biais ?)\n",
    "\n",
    "L'influence du paramèrtre de régularisation lambda est significative.\\\n",
    "En effet un grand lambda ne permet pas une grande\n",
    "variance dans notre modèle et augmente le biais. Inversement pour lambda petit.\\\n",
    "Dans la suite, on trouvera un compromis sur la valeur de lambda.\n"
   ]
  },
  {
   "cell_type": "markdown",
   "metadata": {},
   "source": [
    "# Part 3: Cross-Validation \n",
    "\n",
    "## How to choose lambda from the training data set only ? \n",
    "\n",
    "The idea is to decompose the training set in 2 subsets: one subset for\n",
    "linear regression (say 9/10 of the data), the other to estimate the prediction error (say 1/10 of the data).\n",
    "\n",
    "We can repeat this operation 10 times over the 10 possible couples of\n",
    "subsets to estimate the average prediction error. We will choose the\n",
    "value of `lambda` which minimizes this error. The algorithm goes as\n",
    "follows:\n",
    "\n",
    "For the 10 cross-validation cases\n",
    "    \n",
    "    Extraction of test & training subsets `testset` & `trainset`\n",
    "    \n",
    "    For lambda in 0:40\n",
    "        Estimate `beta_hat` from normalized `trainset` (mean=0, var=1)\n",
    "        Estimate the error from  `testset`\n",
    "    EndFor lambda\n",
    "\n",
    "EndFor 10 cases\n",
    "\n",
    "Compute the average error for each lambda\n",
    "\n",
    "Choose `lambda` which minimizes the error \n"
   ]
  },
  {
   "cell_type": "code",
   "execution_count": 85,
   "metadata": {},
   "outputs": [],
   "source": [
    "import pdb\n",
    "def compute_MP(X,lambd):\n",
    "    return(np.dot(np.linalg.inv(lambd*np.identity(8)+np.dot(X.T,X)),X.T))\n",
    "\n",
    "def split_data_KFold_Cross_Val(data,K=10):\n",
    "    data_train_test_split =[]\n",
    "    data_size = len(data)\n",
    "    p_test_size = 1/K\n",
    "    Index_permut = np.random.permutation(data_size)\n",
    "    test_size = int(data_size*p_test_size)\n",
    "    \n",
    "    for j in range(0,K-1): \n",
    "        \n",
    "        data_test=data[Index_permut[j*test_size:(j+1)*test_size]]   # original data\n",
    "        data_train=data[np.delete(Index_permut,range(j*test_size,(j+1)*test_size))]\n",
    "        \n",
    "        data_train_test_split.append([data_train,data_test])\n",
    "    \n",
    "    data_train=data[np.delete(Index_permut,range((K-1)*test_size,data_size))]\n",
    "    data_test=data[Index_permut[(K-1)*test_size:data_size]]   # original data\n",
    "    \n",
    "    data_train_test_split.append([data_train,data_test])\n",
    "    \n",
    "    return(data_train_test_split)\n",
    "\n",
    "def data_to_rawdata_target_normalized(data_sample,K):\n",
    "    rawdata_target_normalized = []\n",
    "    data_train_test_split = split_data_KFold_Cross_Val(data,K)\n",
    "    for j in range(K):\n",
    "        data_sample=data_train_test_split[j]\n",
    "        data_train,data_test = data_sample[0],data_sample[1]\n",
    "\n",
    "        M_train = np.array( [ normalize(vec) for vec in data_train[:,0:8].T ] ).T  # iterate on vec direct / ARRAY not LIST\n",
    "        moy = np.array( [ np.mean(vec) for vec in data_train[:,0:8].T ] )\n",
    "        sigma = np.array( [ np.std(vec, ddof=0) for vec in data_train[:,0:8].T ] )\n",
    "        M_test = np.array([ (data_test[:,k]-moy[k])/sigma[k] for k in range(M_train.shape[1]) ] ).T\n",
    "\n",
    "        t_test = data_test[:,8]   # target column\n",
    "        N_test = data_test.shape[0]\n",
    "        X_test = np.concatenate((np.ones((N_test,1)), M_test[:,0:8]), axis=1) #X_test_tild\n",
    "\n",
    "        t_train = data_train[:,8]   # target column\n",
    "        N_train = data_train.shape[0]\n",
    "        X_train =  M_train[:,0:8]\n",
    "        \n",
    "        rawdata_target_normalized.append((X_train,X_test,t_train,t_test))\n",
    "    return(rawdata_target_normalized)"
   ]
  },
  {
   "cell_type": "code",
   "execution_count": 139,
   "metadata": {},
   "outputs": [],
   "source": [
    "def Lambda_CV(data,K=10,lambda_list=range(0,40)):\n",
    "\n",
    "    Error_Liste=[]\n",
    "    rawdata_target_normalized = data_to_rawdata_target_normalized(data,K)\n",
    "\n",
    "    for j in range(K):\n",
    "        X_train,X_test,t_train,t_test=rawdata_target_normalized[j]\n",
    "        t0 = np.mean(t_train)\n",
    "        Error_Liste_lambda =[]\n",
    "        for lambd in lambda_list:\n",
    "\n",
    "                MP_reg= compute_MP(X_train,lambd)\n",
    "                N_test = len(t_test)\n",
    "                beta_hat_reg=np.hstack((np.array([t0]),MP_reg@t_train))\n",
    "                t_hat_reg = X_test.dot(beta_hat_reg)\n",
    "                \n",
    "                Error_Liste_lambda.append(np.round(np.linalg.norm(t_hat_reg-t_test,2)**2,3)/N_test)\n",
    "\n",
    "        Error_Liste.append(Error_Liste_lambda)\n",
    "\n",
    "    return(np.mean(Error_Liste,axis=0))"
   ]
  },
  {
   "cell_type": "code",
   "execution_count": 146,
   "metadata": {},
   "outputs": [
    {
     "name": "stdout",
     "output_type": "stream",
     "text": [
      "Le meilleur modèle régularisé a une erreur quadratique qui vaut 0.538 pour lambda = 6.0\n"
     ]
    },
    {
     "data": {
      "text/plain": [
       "[<matplotlib.lines.Line2D at 0x268916ca408>]"
      ]
     },
     "execution_count": 146,
     "metadata": {},
     "output_type": "execute_result"
    },
    {
     "data": {
      "image/png": "[encoded data removed]",
      "text/plain": [
       "<Figure size 432x288 with 1 Axes>"
      ]
     },
     "metadata": {},
     "output_type": "display_data"
    }
   ],
   "source": [
    "K=10\n",
    "lambda_list=np.linspace(0,40,41)\n",
    "\n",
    "Error_Liste = Lambda_CV(data_train,K,lambda_list)\n",
    "\n",
    "print(f\"Le meilleur modèle régularisé a une erreur quadratique qui vaut {np.round(np.min(Error_Liste),3)} pour lambda = {lambda_list[np.argmin(Error_Liste)]}\")\n",
    "\n",
    "plt.style.use('ggplot')\n",
    "plt.title(\"$\\lambda_{opt}=$\"+f\"{lambda_list[np.argmin(Error_Liste)]}\")\n",
    "plt.xlabel(\"$\\lambda$\");plt.ylabel(\"Erreur moyenne sur la validation croisée\")\n",
    "plt.plot(lambda_list,Error_Liste)"
   ]
  },
  {
   "cell_type": "markdown",
   "metadata": {},
   "source": [
    "On remarque qu'en relancant cette simulation la valeur de lambda optimal change.\n",
    "C'est normal car notre jeu de données est petit et que la valeur moyenne fluctue selon la répartition des données après mélange (séparation en 10 qui est aléatoire). On se doute bien qu'en relevant la valeur optimale de lambda pour un grand nombre de permutations, l'espérance du lambda opt obtenu sera la meilleure valeure que l'on peut choisir.\n",
    "\n",
    "Nous allons pour cela procéder à une estimation via une méthode de Monte-carlo afin de déterminer la valeur de lambda opt qui est la plus fréquente. Nous nous attendons à observer une gaussienne. Nous allons travailler sur des intervalles pour lambda plus réduit pour mieux cerner lambda.\n",
    "cf plus bas : "
   ]
  },
  {
   "cell_type": "markdown",
   "metadata": {},
   "source": [
    "Nous allons tester cette recherche sur l'intervalle [0,40] avec 41 valeurs de lambda testées à chaque fois.\n"
   ]
  },
  {
   "cell_type": "code",
   "execution_count": 138,
   "metadata": {},
   "outputs": [
    {
     "data": {
      "image/png": "[encoded data removed]",
      "text/plain": [
       "<Figure size 432x288 with 1 Axes>"
      ]
     },
     "metadata": {},
     "output_type": "display_data"
    }
   ],
   "source": [
    "#Monte Carlo\n",
    "K=10\n",
    "lambda_list=np.linspace(0,40,41)\n",
    "Nb_iter = 1000\n",
    "Lambda_opt_list=[]\n",
    "for j in range(Nb_iter):\n",
    "    Lambda_opt_list.append(lambda_list[np.argmin(Lambda_CV(data_train,K,lambda_list))])\n",
    "\n",
    "plt.hist(Lambda_opt_list)\n",
    "plt.show()\n",
    "                           \n"
   ]
  },
  {
   "cell_type": "markdown",
   "metadata": {},
   "source": [
    "Cette fois avec 10000 itérations : "
   ]
  },
  {
   "cell_type": "code",
   "execution_count": 131,
   "metadata": {},
   "outputs": [
    {
     "data": {
      "image/png": "[encoded data removed]",
      "text/plain": [
       "<Figure size 432x288 with 1 Axes>"
      ]
     },
     "metadata": {},
     "output_type": "display_data"
    }
   ],
   "source": [
    "#Monte Carlo\n",
    "from IPython.display import clear_output\n",
    "K=10\n",
    "lambda_list=np.linspace(0,40,41)\n",
    "Nb_iter = 10000\n",
    "Lambda_opt_list=[]\n",
    "counter = 0\n",
    "for j in range(Nb_iter):\n",
    "    Lambda_opt_list.append(lambda_list[np.argmin(Lambda_CV(data_train,K,lambda_list))])\n",
    "    counter+=1\n",
    "\n",
    "    print(f\"{round(counter/Nb_iter*100)} %\")\n",
    "    clear_output(wait = True)\n",
    "    \n",
    "\n",
    "plt.hist(Lambda_opt_list)\n",
    "plt.show()\n"
   ]
  },
  {
   "cell_type": "code",
   "execution_count": 132,
   "metadata": {},
   "outputs": [
    {
     "data": {
      "text/plain": [
       "(0, 40)"
      ]
     },
     "execution_count": 132,
     "metadata": {},
     "output_type": "execute_result"
    },
    {
     "data": {
      "image/png": "[encoded data removed]",
      "text/plain": [
       "<Figure size 432x288 with 1 Axes>"
      ]
     },
     "metadata": {},
     "output_type": "display_data"
    }
   ],
   "source": [
    "sns.kdeplot(Lambda_opt_list)\n",
    "plt.xlim(0,40)"
   ]
  },
  {
   "cell_type": "code",
   "execution_count": 136,
   "metadata": {},
   "outputs": [
    {
     "name": "stdout",
     "output_type": "stream",
     "text": [
      "Le lambda optimal estimé à l'aide de la méthode de Monte Carlo pour 10000 itérations est :6\n"
     ]
    }
   ],
   "source": [
    "Lambda_opt_MC = np.bincount(Lambda_opt_list).argmax()\n",
    "print(f\"Le lambda optimal estimé à l'aide de la méthode de Monte Carlo pour 10000 itérations est :{Lambda_opt_MC}\")"
   ]
  },
  {
   "cell_type": "markdown",
   "metadata": {},
   "source": [
    "Ainsi, à l'aide de cette méthode, on obtient $\\lambda_{opt} = 6$"
   ]
  },
  {
   "cell_type": "markdown",
   "metadata": {},
   "source": [
    "## Exercise 4\n",
    "* Use 6-fold cross-validation in the present study to optimize the choice of `lambda`. \n",
    "Try values of `lambda` ranging from 0 to 40 for instance (0:40).\n",
    "* Plot the estimated error as a function of `lambda`.\n",
    "* Propose a well chosen value of `lambda` and give the estimated corresponding\n",
    "error on the test set.\n",
    "* Comment on your results.\n",
    "\n",
    "*Indication 1 : think of shuffling the dataset first.*\n",
    "\n",
    "*Indication 2 : you can build 6 training and test subsets by using the code below*"
   ]
  },
  {
   "cell_type": "markdown",
   "metadata": {},
   "source": [
    "On réalise la même procédure que dans l'exercice 3 avec K = 6."
   ]
  },
  {
   "cell_type": "code",
   "execution_count": 152,
   "metadata": {},
   "outputs": [
    {
     "name": "stdout",
     "output_type": "stream",
     "text": [
      "Le meilleur modèle régularisé a une erreur quadratique qui vaut 0.531 pour lambda = 8.0\n"
     ]
    },
    {
     "data": {
      "text/plain": [
       "[<matplotlib.lines.Line2D at 0x268913e1648>]"
      ]
     },
     "execution_count": 152,
     "metadata": {},
     "output_type": "execute_result"
    },
    {
     "data": {
      "image/png": "[encoded data removed]",
      "text/plain": [
       "<Figure size 432x288 with 1 Axes>"
      ]
     },
     "metadata": {},
     "output_type": "display_data"
    }
   ],
   "source": [
    "K=6\n",
    "lambda_list=np.linspace(0,40,41)\n",
    "Error_Liste = Lambda_CV(data_train,K,lambda_list)\n",
    "lambd_opt, min_Error =lambda_list[np.argmin(Error_Liste)],np.round(np.min(Error_Liste),3)\n",
    "\n",
    "print(f\"Le meilleur modèle régularisé a une erreur quadratique qui vaut {min_Error} pour lambda = {lambd_opt}\")\n",
    "\n",
    "plt.style.use('ggplot')\n",
    "plt.title(\"$\\lambda_{opt}=$\"+f\"{lambda_list[np.argmin(Error_Liste)]}\")\n",
    "plt.xlabel(\"$\\lambda$\");plt.ylabel(\"Error\")\n",
    "plt.plot(lambda_list,Error_Liste)"
   ]
  },
  {
   "cell_type": "markdown",
   "metadata": {},
   "source": [
    "On estime $\\lambda_{opt}$ grâce à la méthode de Monte Carlo."
   ]
  },
  {
   "cell_type": "code",
   "execution_count": 153,
   "metadata": {},
   "outputs": [
    {
     "data": {
      "image/png": "[encoded data removed]",
      "text/plain": [
       "<Figure size 432x288 with 1 Axes>"
      ]
     },
     "metadata": {},
     "output_type": "display_data"
    }
   ],
   "source": [
    "#Monte Carlo\n",
    "from IPython.display import clear_output\n",
    "K=6\n",
    "lambda_list=np.linspace(0,40,41)\n",
    "Nb_iter = 10000\n",
    "Lambda_opt_list=[]\n",
    "counter = 0\n",
    "for j in range(Nb_iter):\n",
    "    Lambda_opt_list.append(lambda_list[np.argmin(Lambda_CV(data_train,K,lambda_list))])\n",
    "    counter+=1\n",
    "\n",
    "    print(f\"{round(counter/Nb_iter*100)} %\")\n",
    "    clear_output(wait = True)\n",
    "    \n",
    "\n",
    "plt.hist(Lambda_opt_list)\n",
    "plt.show()"
   ]
  },
  {
   "cell_type": "code",
   "execution_count": 154,
   "metadata": {},
   "outputs": [
    {
     "data": {
      "text/plain": [
       "(0, 40)"
      ]
     },
     "execution_count": 154,
     "metadata": {},
     "output_type": "execute_result"
    },
    {
     "data": {
      "image/png": "[encoded data removed]",
      "text/plain": [
       "<Figure size 432x288 with 1 Axes>"
      ]
     },
     "metadata": {},
     "output_type": "display_data"
    }
   ],
   "source": [
    "sns.kdeplot(Lambda_opt_list)\n",
    "plt.xlim(0,40)"
   ]
  },
  {
   "cell_type": "code",
   "execution_count": 155,
   "metadata": {},
   "outputs": [
    {
     "name": "stdout",
     "output_type": "stream",
     "text": [
      "Le lambda optimal estimé à l'aide de la méthode de Monte Carlo pour 10000 itérations est :5\n"
     ]
    }
   ],
   "source": [
    "Lambda_opt_MC = np.bincount(Lambda_opt_list).argmax()\n",
    "print(f\"Le lambda optimal estimé à l'aide de la méthode de Monte Carlo pour 10000 itérations est :{Lambda_opt_MC}\")"
   ]
  },
  {
   "cell_type": "markdown",
   "metadata": {},
   "source": [
    "# Estimation de l'erreur sur le modèle régularisée avec $\\lambda = \\lambda_{opt}$"
   ]
  },
  {
   "cell_type": "code",
   "execution_count": 168,
   "metadata": {},
   "outputs": [
    {
     "name": "stdout",
     "output_type": "stream",
     "text": [
      " Le premier coefficient b0 est le biais du model et il vaut : 2.452\n",
      "Estimateur :[ 2.452  0.422  0.249 -0.042  0.166  0.231  0.011  0.043  0.132]\n"
     ]
    }
   ],
   "source": [
    "lambd = Lambda_opt_MC\n",
    "lambd = 25\n",
    "MP_reg= compute_MP(X_train,lambd)\n",
    "t0 = np.mean(t_train)\n",
    "beta_hat_reg=np.hstack((np.array([t0]),MP_reg@t_train))\n",
    "\n",
    "print(f\" Le premier coefficient b0 est le biais du model et il vaut : {np.round(beta_hat_reg[0],3)}\")\n",
    "print(f\"Estimateur :{np.round(beta_hat_reg,3)}\")"
   ]
  },
  {
   "cell_type": "code",
   "execution_count": 169,
   "metadata": {},
   "outputs": [
    {
     "name": "stdout",
     "output_type": "stream",
     "text": [
      "L'erreur quadratique du modèle est de 0.49394216\n"
     ]
    }
   ],
   "source": [
    "t_hat_reg = X_test.dot(beta_hat_reg)\n",
    "\n",
    "Error_LS = np.linalg.norm(t_hat_reg-t_test,2)**2/N_test\n",
    "print(f\"L'erreur quadratique du modèle est de {np.round(Error_LS,8)}\")"
   ]
  },
  {
   "cell_type": "markdown",
   "metadata": {},
   "source": [
    "Le modèle régularisé avec $\\lambda_{opt}$ est aussi bon que celui avec $\\lambda=25$ pour cet ensemble de validation."
   ]
  },
  {
   "cell_type": "code",
   "execution_count": 166,
   "metadata": {},
   "outputs": [
    {
     "data": {
      "image/png": "[encoded data removed]",
      "text/plain": [
       "<Figure size 432x288 with 1 Axes>"
      ]
     },
     "metadata": {},
     "output_type": "display_data"
    }
   ],
   "source": [
    "Error = []\n",
    "for l in range(0,41):\n",
    "    MP_reg= compute_MP(X_train,l)\n",
    "    t0 = np.mean(t_train)\n",
    "    beta_hat_reg=np.hstack((np.array([t0]),MP_reg@t_train))\n",
    "    t_hat_reg = X_test.dot(beta_hat_reg)\n",
    "\n",
    "    Error_LS = np.linalg.norm(t_hat_reg-t_test,2)**2/N_test\n",
    "    Error.append(Error_LS)\n",
    "\n",
    "plt.plot(Error)\n",
    "plt.xlabel(\"$\\lambda$\");plt.ylabel(\"Erreur sur l'ensemble de test\")\n",
    "plt.show()\n",
    "\n",
    "    "
   ]
  },
  {
   "cell_type": "markdown",
   "metadata": {},
   "source": [
    "En termes de généralisation de modèle, notre étude pour calculer lambda optimal est intéressante :  l'arrivée de nouvelles données ne pertuberait pas la précision du modèle lors de l'entrainement. \n",
    "\n",
    "En revanche lors de la validation, on constate que lambda est bien différent. Malgré notre validation-croisée, cela n'améliore pas la précision du modèle avec l'ensemble de test.\n",
    "Cela pose le problème suivant : \n",
    "Peut-on généraliser lambda avec un jeu de données suffisamment grand pour que lors\n",
    "de l'estimation avec de nouvelles données la précision soit acceptable?"
   ]
  }
 ],
 "metadata": {
  "kernelspec": {
   "display_name": "Python 3",
   "language": "python",
   "name": "python3"
  },
  "language_info": {
   "codemirror_mode": {
    "name": "ipython",
    "version": 3
   },
   "file_extension": ".py",
   "mimetype": "text/x-python",
   "name": "python",
   "nbconvert_exporter": "python",
   "pygments_lexer": "ipython3",
   "version": "3.7.4"
  },
  "vscode": {
   "interpreter": {
    "hash": "1fd63f783ceff743935ee1c0b4f8673d26712ba3615427f23ac8b0ec87cb072e"
   }
  }
 },
 "nbformat": 4,
 "nbformat_minor": 2
}
